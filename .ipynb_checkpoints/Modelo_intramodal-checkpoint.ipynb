{
 "cells": [
  {
   "cell_type": "markdown",
   "metadata": {
    "id": "z0huQHU3SSDY"
   },
   "source": [
    "## Modelagem\n"
   ]
  },
  {
   "cell_type": "code",
   "execution_count": 2,
   "metadata": {
    "colab": {
     "base_uri": "https://localhost:8080/"
    },
    "id": "K6vIR0FVLqwj",
    "outputId": "56294c18-98fb-4d13-9776-f0364f0c1817"
   },
   "outputs": [],
   "source": [
    "import pandas as pd\n",
    "import numpy as np\n",
    "import seaborn as sns\n",
    "import matplotlib.pyplot as plt\n",
    "import statsmodels.formula.api as smf\n",
    "from sklearn.metrics import accuracy_score, recall_score, precision_score, classification_report"
   ]
  },
  {
   "cell_type": "code",
   "execution_count": 4,
   "metadata": {
    "id": "uh_x-7XMU2f8"
   },
   "outputs": [],
   "source": [
    "def plot_confusion_matrix(cm, classes,\n",
    "                          normalize=False,\n",
    "                          title='Confusion matrix',\n",
    "                          cmap=plt.cm.Blues):\n",
    "    \"\"\"\n",
    "    This function prints and plots the confusion matrix.\n",
    "    Normalization can be applied by setting `normalize=True`.\n",
    "    \"\"\"\n",
    "    import itertools\n",
    "    if normalize:\n",
    "        cm = cm.astype('float') / cm.sum(axis=1)[:, np.newaxis]\n",
    "#         print(\"Normalized confusion matrix\")\n",
    "#     else:\n",
    "#         print('Confusion matrix, without normalization')\n",
    "\n",
    "#     print(cm)\n",
    "\n",
    "    plt.imshow(cm, interpolation='nearest', cmap=cmap)\n",
    "    plt.title(title)\n",
    "    plt.colorbar()\n",
    "    tick_marks = np.arange(len(classes))\n",
    "    plt.xticks(tick_marks, classes, rotation=45)\n",
    "    plt.yticks(tick_marks, classes)\n",
    "\n",
    "    fmt = '.2f' if normalize else 'd'\n",
    "    thresh = cm.max() / 2.\n",
    "    for i, j in itertools.product(range(cm.shape[0]), range(cm.shape[1])):\n",
    "        plt.text(j, i, format(cm[i, j], fmt),\n",
    "                 horizontalalignment=\"center\",\n",
    "                 color=\"white\" if cm[i, j] > thresh else \"black\")\n",
    "\n",
    "    plt.tight_layout()\n",
    "    plt.ylabel('True label')\n",
    "    plt.xlabel('Predicted label')\n",
    "    plt.grid(False)\n",
    "\n",
    "from sklearn.metrics import confusion_matrix"
   ]
  },
  {
   "cell_type": "code",
   "execution_count": 14,
   "metadata": {
    "id": "cAjo6X7ELwAW"
   },
   "outputs": [],
   "source": [
    "#Essa planilha foi criada em R\n",
    "#Colocar a explicacao de ATRATIVIDADE etc\n",
    "df=pd.read_excel(\"/Users/guilhermecosta22/DS/Projetos/Competicao_Intramodal_SC/BD_logit.xlsx\")"
   ]
  },
  {
   "cell_type": "code",
   "execution_count": 16,
   "metadata": {
    "id": "DXSjPU-vDFGn"
   },
   "outputs": [
    {
     "name": "stderr",
     "output_type": "stream",
     "text": [
      "/var/folders/lq/q3pd3n4j6_jfgwnwfwll7mbc0000gp/T/ipykernel_45005/1537007994.py:3: FutureWarning: Downcasting behavior in `replace` is deprecated and will be removed in a future version. To retain the old behavior, explicitly call `result.infer_objects(copy=False)`. To opt-in to the future behavior, set `pd.set_option('future.no_silent_downcasting', True)`\n",
      "  df[\"AERO_C\"] = df[\"AERO_C\"].replace({\"SBFL\": 0, \"SBJA\": 1})\n"
     ]
    }
   ],
   "source": [
    "df = df[[\"ORIGEM.x\",\"AERO.x\",\"quantidadeviagem\", \"DISTANCIA\",\"TEMPO\", \"UTILIDADE\",\"ATRATIVIDADE\",\"U_TARIFA\",\"U_PONTUALIDADE\",\"U_CONECTIVIDADE\"]]\n",
    "df[\"AERO_C\"] = df[\"AERO.x\"]\n",
    "df[\"AERO_C\"] = df[\"AERO_C\"].replace({\"SBFL\": 0, \"SBJA\": 1})"
   ]
  },
  {
   "cell_type": "code",
   "execution_count": 12,
   "metadata": {},
   "outputs": [
    {
     "data": {
      "text/html": [
       "<div>\n",
       "<style scoped>\n",
       "    .dataframe tbody tr th:only-of-type {\n",
       "        vertical-align: middle;\n",
       "    }\n",
       "\n",
       "    .dataframe tbody tr th {\n",
       "        vertical-align: top;\n",
       "    }\n",
       "\n",
       "    .dataframe thead th {\n",
       "        text-align: right;\n",
       "    }\n",
       "</style>\n",
       "<table border=\"1\" class=\"dataframe\">\n",
       "  <thead>\n",
       "    <tr style=\"text-align: right;\">\n",
       "      <th></th>\n",
       "      <th>ORIGEM.x</th>\n",
       "      <th>AERO.x</th>\n",
       "      <th>quantidadeviagem</th>\n",
       "      <th>DISTANCIA</th>\n",
       "      <th>TEMPO</th>\n",
       "      <th>UTILIDADE</th>\n",
       "      <th>ATRATIVIDADE</th>\n",
       "      <th>U_TARIFA</th>\n",
       "      <th>U_PONTUALIDADE</th>\n",
       "      <th>U_CONECTIVIDADE</th>\n",
       "      <th>AERO_C</th>\n",
       "    </tr>\n",
       "  </thead>\n",
       "  <tbody>\n",
       "    <tr>\n",
       "      <th>0</th>\n",
       "      <td>Agrolândia</td>\n",
       "      <td>SBFL</td>\n",
       "      <td>30</td>\n",
       "      <td>241.013</td>\n",
       "      <td>11909.587</td>\n",
       "      <td>11.451159</td>\n",
       "      <td>0.409435</td>\n",
       "      <td>1.779462</td>\n",
       "      <td>0.08784</td>\n",
       "      <td>9.583856</td>\n",
       "      <td>0</td>\n",
       "    </tr>\n",
       "    <tr>\n",
       "      <th>1</th>\n",
       "      <td>Agrolândia</td>\n",
       "      <td>SBFL</td>\n",
       "      <td>29</td>\n",
       "      <td>241.013</td>\n",
       "      <td>11909.587</td>\n",
       "      <td>11.451159</td>\n",
       "      <td>0.409435</td>\n",
       "      <td>1.779462</td>\n",
       "      <td>0.08784</td>\n",
       "      <td>9.583856</td>\n",
       "      <td>0</td>\n",
       "    </tr>\n",
       "    <tr>\n",
       "      <th>2</th>\n",
       "      <td>Agrolândia</td>\n",
       "      <td>SBFL</td>\n",
       "      <td>30</td>\n",
       "      <td>241.013</td>\n",
       "      <td>11909.587</td>\n",
       "      <td>11.451159</td>\n",
       "      <td>0.409435</td>\n",
       "      <td>1.779462</td>\n",
       "      <td>0.08784</td>\n",
       "      <td>9.583856</td>\n",
       "      <td>0</td>\n",
       "    </tr>\n",
       "    <tr>\n",
       "      <th>3</th>\n",
       "      <td>Agrolândia</td>\n",
       "      <td>SBFL</td>\n",
       "      <td>29</td>\n",
       "      <td>241.013</td>\n",
       "      <td>11909.587</td>\n",
       "      <td>11.451159</td>\n",
       "      <td>0.409435</td>\n",
       "      <td>1.779462</td>\n",
       "      <td>0.08784</td>\n",
       "      <td>9.583856</td>\n",
       "      <td>0</td>\n",
       "    </tr>\n",
       "    <tr>\n",
       "      <th>4</th>\n",
       "      <td>Agrolândia</td>\n",
       "      <td>SBFL</td>\n",
       "      <td>30</td>\n",
       "      <td>241.013</td>\n",
       "      <td>11909.587</td>\n",
       "      <td>11.451159</td>\n",
       "      <td>0.409435</td>\n",
       "      <td>1.779462</td>\n",
       "      <td>0.08784</td>\n",
       "      <td>9.583856</td>\n",
       "      <td>0</td>\n",
       "    </tr>\n",
       "  </tbody>\n",
       "</table>\n",
       "</div>"
      ],
      "text/plain": [
       "     ORIGEM.x AERO.x  quantidadeviagem  DISTANCIA      TEMPO  UTILIDADE  \\\n",
       "0  Agrolândia   SBFL                30    241.013  11909.587  11.451159   \n",
       "1  Agrolândia   SBFL                29    241.013  11909.587  11.451159   \n",
       "2  Agrolândia   SBFL                30    241.013  11909.587  11.451159   \n",
       "3  Agrolândia   SBFL                29    241.013  11909.587  11.451159   \n",
       "4  Agrolândia   SBFL                30    241.013  11909.587  11.451159   \n",
       "\n",
       "   ATRATIVIDADE  U_TARIFA  U_PONTUALIDADE  U_CONECTIVIDADE  AERO_C  \n",
       "0      0.409435  1.779462         0.08784         9.583856       0  \n",
       "1      0.409435  1.779462         0.08784         9.583856       0  \n",
       "2      0.409435  1.779462         0.08784         9.583856       0  \n",
       "3      0.409435  1.779462         0.08784         9.583856       0  \n",
       "4      0.409435  1.779462         0.08784         9.583856       0  "
      ]
     },
     "execution_count": 12,
     "metadata": {},
     "output_type": "execute_result"
    }
   ],
   "source": [
    "df.head()"
   ]
  },
  {
   "cell_type": "code",
   "execution_count": 5,
   "metadata": {
    "colab": {
     "base_uri": "https://localhost:8080/"
    },
    "id": "oiY6e-_2RxJW",
    "outputId": "d5b5d03a-f7f3-4f52-b200-d0feb699b83e"
   },
   "outputs": [
    {
     "name": "stderr",
     "output_type": "stream",
     "text": [
      "/usr/local/lib/python3.7/dist-packages/ipykernel_launcher.py:2: FutureWarning: Indexing with multiple keys (implicitly converted to a tuple of keys) will be deprecated, use a list instead.\n",
      "  \n"
     ]
    }
   ],
   "source": [
    "quantidaddeviagem = pd.DataFrame(df.groupby([\"ORIGEM.x\", \"AERO.x\"])[\"quantidadeviagem\"].sum())\n",
    "outros = pd.DataFrame(df.groupby([\"ORIGEM.x\", \"AERO.x\"])[\"DISTANCIA\",\t\"TEMPO\",\t\"UTILIDADE\",\t\"ATRATIVIDADE\",\t\"U_TARIFA\",\t\"U_PONTUALIDADE\",\t\"U_CONECTIVIDADE\", \"AERO_C\"].mean())\n",
    "df_novo = pd.merge(outros, quantidaddeviagem, left_index=True, right_index=True)"
   ]
  },
  {
   "cell_type": "code",
   "execution_count": 6,
   "metadata": {
    "colab": {
     "base_uri": "https://localhost:8080/"
    },
    "id": "7NkwiXCMOGOv",
    "outputId": "0a9ff522-d0ca-4eaa-92c2-644f75bc2ad8"
   },
   "outputs": [
    {
     "name": "stdout",
     "output_type": "stream",
     "text": [
      "Optimization terminated successfully.\n",
      "         Current function value: 0.293909\n",
      "         Iterations 8\n"
     ]
    }
   ],
   "source": [
    "w = df_novo[\"quantidadeviagem\"]\n",
    "function_formula = 'AERO_C ~ ATRATIVIDADE'\n",
    "reg_log = smf.logit(formula=function_formula, data=df_novo, freq_weights=w)\n",
    "reg_log = reg_log.fit()"
   ]
  },
  {
   "cell_type": "code",
   "execution_count": 7,
   "metadata": {
    "colab": {
     "base_uri": "https://localhost:8080/"
    },
    "id": "H30nYMj4HpQ7",
    "outputId": "ea373bea-0c3f-4d07-b53f-9a197f02cb01"
   },
   "outputs": [
    {
     "name": "stdout",
     "output_type": "stream",
     "text": [
      "                           Logit Regression Results                           \n",
      "==============================================================================\n",
      "Dep. Variable:                 AERO_C   No. Observations:                  290\n",
      "Model:                          Logit   Df Residuals:                      288\n",
      "Method:                           MLE   Df Model:                            1\n",
      "Date:                Wed, 04 Aug 2021   Pseudo R-squ.:                  0.5666\n",
      "Time:                        16:36:35   Log-Likelihood:                -85.234\n",
      "converged:                       True   LL-Null:                       -196.68\n",
      "Covariance Type:            nonrobust   LLR p-value:                 2.114e-50\n",
      "================================================================================\n",
      "                   coef    std err          z      P>|z|      [0.025      0.975]\n",
      "--------------------------------------------------------------------------------\n",
      "Intercept       -7.4318      0.818     -9.080      0.000      -9.036      -5.828\n",
      "ATRATIVIDADE    13.3396      1.507      8.851      0.000      10.386      16.293\n",
      "================================================================================\n"
     ]
    }
   ],
   "source": [
    "print(reg_log.summary())"
   ]
  },
  {
   "cell_type": "code",
   "execution_count": 8,
   "metadata": {
    "id": "_HnMSoD5KDQu"
   },
   "outputs": [],
   "source": [
    "y_pred = reg_log.predict(df)"
   ]
  },
  {
   "cell_type": "code",
   "execution_count": 9,
   "metadata": {
    "colab": {
     "base_uri": "https://localhost:8080/",
     "height": 311
    },
    "id": "6GF-9-KgKXcS",
    "outputId": "314ef8c1-b6b6-4267-9661-c9174b4c7dc3"
   },
   "outputs": [
    {
     "data": {
      "image/png": "[encoded data removed]",
      "text/plain": [
       "<Figure size 432x288 with 2 Axes>"
      ]
     },
     "metadata": {
      "needs_background": "light",
      "tags": []
     },
     "output_type": "display_data"
    }
   ],
   "source": [
    "class_names = ['SBJA', 'SBFL']\n",
    "y_pred = reg_log.predict(df_novo)\n",
    "y_pred = [1 if pred >= .50 else 0 for pred in y_pred]\n",
    "y = df_novo[\"AERO_C\"]\n",
    "cnf_matrix = confusion_matrix(y, y_pred, labels=[1, 0])\n",
    "plot_confusion_matrix(cnf_matrix, classes=class_names,\n",
    "                     title='Confusion Matrix - C=50%',normalize=True)"
   ]
  },
  {
   "cell_type": "code",
   "execution_count": 10,
   "metadata": {
    "colab": {
     "base_uri": "https://localhost:8080/",
     "height": 312
    },
    "id": "Lov_RqqIYBtT",
    "outputId": "13e45562-bba6-433a-ff87-9ca68f58c72d"
   },
   "outputs": [
    {
     "data": {
      "text/plain": [
       "Text(0.5, 1.0, 'words_list_model ROC Curve')"
      ]
     },
     "execution_count": 10,
     "metadata": {
      "tags": []
     },
     "output_type": "execute_result"
    },
    {
     "data": {
      "image/png": "[encoded data removed]",
      "text/plain": [
       "<Figure size 432x288 with 1 Axes>"
      ]
     },
     "metadata": {
      "needs_background": "light",
      "tags": []
     },
     "output_type": "display_data"
    }
   ],
   "source": [
    "from sklearn.metrics import roc_curve\n",
    "\n",
    "prob = reg_log.predict(df_novo)\n",
    "false_positive_rate_values, sensitivity_values, thresholds = roc_curve(y, prob, pos_label=1)\n",
    "plt.step(false_positive_rate_values, sensitivity_values, color='b', where='post')\n",
    "plt.xlabel('False Positive Rate (1 - Specificity)')\n",
    "plt.ylabel('Sensitivity')\n",
    "plt.title('words_list_model ROC Curve')"
   ]
  },
  {
   "cell_type": "code",
   "execution_count": 11,
   "metadata": {
    "colab": {
     "base_uri": "https://localhost:8080/",
     "height": 334
    },
    "id": "3eRO_brrEous",
    "outputId": "9ae0330a-90d6-4ff8-b17d-bf50cb6a5b91"
   },
   "outputs": [
    {
     "name": "stderr",
     "output_type": "stream",
     "text": [
      "/usr/local/lib/python3.7/dist-packages/seaborn/_decorators.py:43: FutureWarning: Pass the following variable as a keyword arg: x. From version 0.12, the only valid positional argument will be `data`, and passing other arguments without an explicit keyword will result in an error or misinterpretation.\n",
      "  FutureWarning\n"
     ]
    },
    {
     "data": {
      "image/png": "[encoded data removed]",
      "text/plain": [
       "<Figure size 432x288 with 1 Axes>"
      ]
     },
     "metadata": {
      "needs_background": "light",
      "tags": []
     },
     "output_type": "display_data"
    }
   ],
   "source": [
    "#df desbalanceado\n",
    "sns.countplot('AERO_C', data=df_novo);"
   ]
  },
  {
   "cell_type": "code",
   "execution_count": 12,
   "metadata": {
    "colab": {
     "base_uri": "https://localhost:8080/"
    },
    "id": "oyABhFZX4o4x",
    "outputId": "82ddcc8c-9193-48b9-b5d9-509fd94adce9"
   },
   "outputs": [
    {
     "data": {
      "text/plain": [
       "DISTANCIA           120\n",
       "TEMPO               120\n",
       "UTILIDADE           120\n",
       "ATRATIVIDADE        120\n",
       "U_TARIFA            120\n",
       "U_PONTUALIDADE      120\n",
       "U_CONECTIVIDADE     120\n",
       "AERO_C              120\n",
       "quantidadeviagem    120\n",
       "dtype: int64"
      ]
     },
     "execution_count": 12,
     "metadata": {
      "tags": []
     },
     "output_type": "execute_result"
    }
   ],
   "source": [
    "df_novo[df_novo[\"AERO_C\"] == 1].count()"
   ]
  },
  {
   "cell_type": "code",
   "execution_count": 13,
   "metadata": {
    "colab": {
     "base_uri": "https://localhost:8080/"
    },
    "id": "QdOrIJSq6IAl",
    "outputId": "60dfe691-95bd-4194-805f-14d2eae1675e"
   },
   "outputs": [
    {
     "name": "stdout",
     "output_type": "stream",
     "text": [
      "57.51724137931034\n",
      "13.486206896551725\n"
     ]
    }
   ],
   "source": [
    "total = 170+120 \n",
    "print(16680/total)\n",
    "print(3911/total)"
   ]
  },
  {
   "cell_type": "code",
   "execution_count": 14,
   "metadata": {
    "colab": {
     "base_uri": "https://localhost:8080/"
    },
    "id": "8epQgZETZ1Rc",
    "outputId": "f5cadee3-a969-4814-daa0-c401d257da7a"
   },
   "outputs": [
    {
     "name": "stderr",
     "output_type": "stream",
     "text": [
      "/usr/local/lib/python3.7/dist-packages/sklearn/externals/six.py:31: FutureWarning: The module is deprecated in version 0.21 and will be removed in version 0.23 since we've dropped support for Python 2.7. Please rely on the official version of six (https://pypi.org/project/six/).\n",
      "  \"(https://pypi.org/project/six/).\", FutureWarning)\n",
      "/usr/local/lib/python3.7/dist-packages/sklearn/utils/deprecation.py:144: FutureWarning: The sklearn.neighbors.base module is  deprecated in version 0.22 and will be removed in version 0.24. The corresponding classes / functions should instead be imported from sklearn.neighbors. Anything that cannot be imported from sklearn.neighbors is now part of the private API.\n",
      "  warnings.warn(message, FutureWarning)\n",
      "/usr/local/lib/python3.7/dist-packages/sklearn/utils/deprecation.py:87: FutureWarning: Function safe_indexing is deprecated; safe_indexing is deprecated in version 0.22 and will be removed in version 0.24.\n",
      "  warnings.warn(msg, category=FutureWarning)\n"
     ]
    }
   ],
   "source": [
    "#usar técnica Over-sampling\n",
    "from imblearn.over_sampling import RandomOverSampler \n",
    "rus = RandomOverSampler()\n",
    "x = df_novo[[\"ATRATIVIDADE\", \"quantidadeviagem\", \"AERO_C\"]]\n",
    "x_res, y_res = rus.fit_sample(x, y)\n",
    "x_res = pd.DataFrame(data=x_res,columns=['ATRATIVIDADE', 'quantidadeviagem',  \"AERO_C\"])\n",
    "y_res = pd.DataFrame(data=y_res,columns=['AERO_C'])"
   ]
  },
  {
   "cell_type": "code",
   "execution_count": 15,
   "metadata": {
    "colab": {
     "base_uri": "https://localhost:8080/",
     "height": 402
    },
    "id": "df2AuTE4dtFD",
    "outputId": "945b126b-47f4-46f2-c6ef-a7420d312307"
   },
   "outputs": [
    {
     "name": "stdout",
     "output_type": "stream",
     "text": [
      "AERO_C\n",
      "1         170\n",
      "0         170\n",
      "dtype: int64\n"
     ]
    },
    {
     "name": "stderr",
     "output_type": "stream",
     "text": [
      "/usr/local/lib/python3.7/dist-packages/seaborn/_decorators.py:43: FutureWarning: Pass the following variable as a keyword arg: x. From version 0.12, the only valid positional argument will be `data`, and passing other arguments without an explicit keyword will result in an error or misinterpretation.\n",
      "  FutureWarning\n"
     ]
    },
    {
     "data": {
      "image/png": "[encoded data removed]",
      "text/plain": [
       "<Figure size 432x288 with 1 Axes>"
      ]
     },
     "metadata": {
      "needs_background": "light",
      "tags": []
     },
     "output_type": "display_data"
    }
   ],
   "source": [
    "print(y_res.value_counts())\n",
    "sns.countplot('AERO_C', data=y_res);"
   ]
  },
  {
   "cell_type": "code",
   "execution_count": 16,
   "metadata": {
    "colab": {
     "base_uri": "https://localhost:8080/",
     "height": 419
    },
    "id": "Eg-CpPCFeBS3",
    "outputId": "e81a21fd-6982-4f9e-d3c1-7c8115c26306"
   },
   "outputs": [
    {
     "data": {
      "text/html": [
       "<div>\n",
       "<style scoped>\n",
       "    .dataframe tbody tr th:only-of-type {\n",
       "        vertical-align: middle;\n",
       "    }\n",
       "\n",
       "    .dataframe tbody tr th {\n",
       "        vertical-align: top;\n",
       "    }\n",
       "\n",
       "    .dataframe thead th {\n",
       "        text-align: right;\n",
       "    }\n",
       "</style>\n",
       "<table border=\"1\" class=\"dataframe\">\n",
       "  <thead>\n",
       "    <tr style=\"text-align: right;\">\n",
       "      <th></th>\n",
       "      <th>ATRATIVIDADE</th>\n",
       "      <th>quantidadeviagem</th>\n",
       "      <th>AERO_C</th>\n",
       "    </tr>\n",
       "  </thead>\n",
       "  <tbody>\n",
       "    <tr>\n",
       "      <th>0</th>\n",
       "      <td>0.409435</td>\n",
       "      <td>226.0</td>\n",
       "      <td>0.0</td>\n",
       "    </tr>\n",
       "    <tr>\n",
       "      <th>1</th>\n",
       "      <td>0.473263</td>\n",
       "      <td>298.0</td>\n",
       "      <td>0.0</td>\n",
       "    </tr>\n",
       "    <tr>\n",
       "      <th>2</th>\n",
       "      <td>0.526737</td>\n",
       "      <td>16.0</td>\n",
       "      <td>1.0</td>\n",
       "    </tr>\n",
       "    <tr>\n",
       "      <th>3</th>\n",
       "      <td>0.753302</td>\n",
       "      <td>163.0</td>\n",
       "      <td>1.0</td>\n",
       "    </tr>\n",
       "    <tr>\n",
       "      <th>4</th>\n",
       "      <td>0.508555</td>\n",
       "      <td>124.0</td>\n",
       "      <td>0.0</td>\n",
       "    </tr>\n",
       "    <tr>\n",
       "      <th>...</th>\n",
       "      <td>...</td>\n",
       "      <td>...</td>\n",
       "      <td>...</td>\n",
       "    </tr>\n",
       "    <tr>\n",
       "      <th>335</th>\n",
       "      <td>0.547394</td>\n",
       "      <td>351.0</td>\n",
       "      <td>1.0</td>\n",
       "    </tr>\n",
       "    <tr>\n",
       "      <th>336</th>\n",
       "      <td>0.555401</td>\n",
       "      <td>14.0</td>\n",
       "      <td>1.0</td>\n",
       "    </tr>\n",
       "    <tr>\n",
       "      <th>337</th>\n",
       "      <td>0.575985</td>\n",
       "      <td>12.0</td>\n",
       "      <td>1.0</td>\n",
       "    </tr>\n",
       "    <tr>\n",
       "      <th>338</th>\n",
       "      <td>0.804625</td>\n",
       "      <td>133.0</td>\n",
       "      <td>1.0</td>\n",
       "    </tr>\n",
       "    <tr>\n",
       "      <th>339</th>\n",
       "      <td>0.471556</td>\n",
       "      <td>135.0</td>\n",
       "      <td>1.0</td>\n",
       "    </tr>\n",
       "  </tbody>\n",
       "</table>\n",
       "<p>340 rows × 3 columns</p>\n",
       "</div>"
      ],
      "text/plain": [
       "     ATRATIVIDADE  quantidadeviagem  AERO_C\n",
       "0        0.409435             226.0     0.0\n",
       "1        0.473263             298.0     0.0\n",
       "2        0.526737              16.0     1.0\n",
       "3        0.753302             163.0     1.0\n",
       "4        0.508555             124.0     0.0\n",
       "..            ...               ...     ...\n",
       "335      0.547394             351.0     1.0\n",
       "336      0.555401              14.0     1.0\n",
       "337      0.575985              12.0     1.0\n",
       "338      0.804625             133.0     1.0\n",
       "339      0.471556             135.0     1.0\n",
       "\n",
       "[340 rows x 3 columns]"
      ]
     },
     "execution_count": 16,
     "metadata": {
      "tags": []
     },
     "output_type": "execute_result"
    }
   ],
   "source": [
    "x_res"
   ]
  },
  {
   "cell_type": "code",
   "execution_count": 17,
   "metadata": {
    "colab": {
     "base_uri": "https://localhost:8080/"
    },
    "id": "qbAdo2mDenkl",
    "outputId": "cbf7ee59-fc35-4445-f408-72b93f93be4c"
   },
   "outputs": [
    {
     "name": "stdout",
     "output_type": "stream",
     "text": [
      "Optimization terminated successfully.\n",
      "         Current function value: 0.304528\n",
      "         Iterations 8\n"
     ]
    }
   ],
   "source": [
    "w = x_res[\"quantidadeviagem\"]\n",
    "function_formula = 'AERO_C ~ ATRATIVIDADE'\n",
    "reg_log_eq = smf.logit(formula=function_formula, data=x_res, freq_weights=w)\n",
    "reg_log_eq = reg_log_eq.fit()"
   ]
  },
  {
   "cell_type": "code",
   "execution_count": 18,
   "metadata": {
    "colab": {
     "base_uri": "https://localhost:8080/"
    },
    "id": "lNW75Dvvenkz",
    "outputId": "d407b07a-4150-4b16-8ca0-d668d5e38715"
   },
   "outputs": [
    {
     "name": "stdout",
     "output_type": "stream",
     "text": [
      "                           Logit Regression Results                           \n",
      "==============================================================================\n",
      "Dep. Variable:                 AERO_C   No. Observations:                  340\n",
      "Model:                          Logit   Df Residuals:                      338\n",
      "Method:                           MLE   Df Model:                            1\n",
      "Date:                Wed, 04 Aug 2021   Pseudo R-squ.:                  0.5607\n",
      "Time:                        16:36:36   Log-Likelihood:                -103.54\n",
      "converged:                       True   LL-Null:                       -235.67\n",
      "Covariance Type:            nonrobust   LLR p-value:                 2.022e-59\n",
      "================================================================================\n",
      "                   coef    std err          z      P>|z|      [0.025      0.975]\n",
      "--------------------------------------------------------------------------------\n",
      "Intercept       -7.1091      0.756     -9.406      0.000      -8.590      -5.628\n",
      "ATRATIVIDADE    13.4747      1.441      9.350      0.000      10.650      16.299\n",
      "================================================================================\n"
     ]
    }
   ],
   "source": [
    "print(reg_log_eq.summary())"
   ]
  },
  {
   "cell_type": "code",
   "execution_count": 19,
   "metadata": {
    "colab": {
     "base_uri": "https://localhost:8080/",
     "height": 311
    },
    "id": "Y6IDqrdvgZ11",
    "outputId": "7ef5ef4d-646b-4cd5-cf7a-c037721f703c"
   },
   "outputs": [
    {
     "data": {
      "image/png": "[encoded data removed]",
      "text/plain": [
       "<Figure size 432x288 with 2 Axes>"
      ]
     },
     "metadata": {
      "needs_background": "light",
      "tags": []
     },
     "output_type": "display_data"
    }
   ],
   "source": [
    "class_names = ['SBJA', 'SBFL']\n",
    "y_pred = reg_log_eq.predict(x_res)\n",
    "y_pred = [1 if pred >= .50 else 0 for pred in y_pred]\n",
    "y = x_res[\"AERO_C\"]\n",
    "cnf_matrix = confusion_matrix(y, y_pred, labels=[1, 0])\n",
    "plot_confusion_matrix(cnf_matrix, classes=class_names,\n",
    "                     title='Confusion Matrix - C=50%',normalize=True)"
   ]
  },
  {
   "cell_type": "code",
   "execution_count": 20,
   "metadata": {
    "colab": {
     "base_uri": "https://localhost:8080/",
     "height": 312
    },
    "id": "_ZMfHAyMgZ12",
    "outputId": "c4641190-3589-49f9-b721-9d4d01eebb41"
   },
   "outputs": [
    {
     "data": {
      "text/plain": [
       "Text(0.5, 1.0, 'words_list_model ROC Curve')"
      ]
     },
     "execution_count": 20,
     "metadata": {
      "tags": []
     },
     "output_type": "execute_result"
    },
    {
     "data": {
      "image/png": "[encoded data removed]",
      "text/plain": [
       "<Figure size 432x288 with 1 Axes>"
      ]
     },
     "metadata": {
      "needs_background": "light",
      "tags": []
     },
     "output_type": "display_data"
    }
   ],
   "source": [
    "prob = reg_log.predict(x_res)\n",
    "false_positive_rate_values, sensitivity_values, thresholds = roc_curve(y, prob, pos_label=1)\n",
    "plt.step(false_positive_rate_values, sensitivity_values, color='b', where='post')\n",
    "plt.xlabel('False Positive Rate (1 - Specificity)')\n",
    "plt.ylabel('Sensitivity')\n",
    "plt.title('words_list_model ROC Curve')"
   ]
  },
  {
   "cell_type": "code",
   "execution_count": 21,
   "metadata": {
    "colab": {
     "base_uri": "https://localhost:8080/"
    },
    "id": "5fV_fHW2h5dj",
    "outputId": "cffb89a3-0315-4622-8b47-66ed5c431d94"
   },
   "outputs": [
    {
     "data": {
      "text/plain": [
       "0.9433910034602075"
      ]
     },
     "execution_count": 21,
     "metadata": {
      "tags": []
     },
     "output_type": "execute_result"
    }
   ],
   "source": [
    "from sklearn.metrics import roc_auc_score\n",
    "roc_auc_score(y, prob)"
   ]
  },
  {
   "cell_type": "markdown",
   "metadata": {
    "id": "GaFH2DIGiHwX"
   },
   "source": [
    "\n",
    "AUC é interpretada como a probabilidade do classificador atribuir uma probabilidade maior para dado escolhido aleatoriamente que pertence de verdade para a classe positiva que um dado escolhido aleatoriamente da classe negativa. O valor 0.945 significa que em 94,5% das vezes é mais provável do modelo classificar um SBJA como SBJA do que um SBFL como SBJA.\n"
   ]
  },
  {
   "cell_type": "code",
   "execution_count": 22,
   "metadata": {
    "id": "MsoOEAcJUTr0"
   },
   "outputs": [],
   "source": [
    "#df_check = x_res\n",
    "df_check = df_novo\n",
    "df_check[\"prob\"] = pd.DataFrame(reg_log.predict(df_check))"
   ]
  },
  {
   "cell_type": "code",
   "execution_count": 23,
   "metadata": {
    "colab": {
     "base_uri": "https://localhost:8080/",
     "height": 450
    },
    "id": "7_WEFYARZ4GW",
    "outputId": "e4ae3d6c-8dde-4a79-a5fe-93e405931fc6"
   },
   "outputs": [
    {
     "data": {
      "text/html": [
       "<div>\n",
       "<style scoped>\n",
       "    .dataframe tbody tr th:only-of-type {\n",
       "        vertical-align: middle;\n",
       "    }\n",
       "\n",
       "    .dataframe tbody tr th {\n",
       "        vertical-align: top;\n",
       "    }\n",
       "\n",
       "    .dataframe thead th {\n",
       "        text-align: right;\n",
       "    }\n",
       "</style>\n",
       "<table border=\"1\" class=\"dataframe\">\n",
       "  <thead>\n",
       "    <tr style=\"text-align: right;\">\n",
       "      <th></th>\n",
       "      <th></th>\n",
       "      <th>DISTANCIA</th>\n",
       "      <th>TEMPO</th>\n",
       "      <th>UTILIDADE</th>\n",
       "      <th>ATRATIVIDADE</th>\n",
       "      <th>U_TARIFA</th>\n",
       "      <th>U_PONTUALIDADE</th>\n",
       "      <th>U_CONECTIVIDADE</th>\n",
       "      <th>AERO_C</th>\n",
       "      <th>quantidadeviagem</th>\n",
       "      <th>prob</th>\n",
       "    </tr>\n",
       "    <tr>\n",
       "      <th>ORIGEM.x</th>\n",
       "      <th>AERO.x</th>\n",
       "      <th></th>\n",
       "      <th></th>\n",
       "      <th></th>\n",
       "      <th></th>\n",
       "      <th></th>\n",
       "      <th></th>\n",
       "      <th></th>\n",
       "      <th></th>\n",
       "      <th></th>\n",
       "      <th></th>\n",
       "    </tr>\n",
       "  </thead>\n",
       "  <tbody>\n",
       "    <tr>\n",
       "      <th>Agrolândia</th>\n",
       "      <th>SBFL</th>\n",
       "      <td>241.013</td>\n",
       "      <td>11909.587</td>\n",
       "      <td>11.451159</td>\n",
       "      <td>0.409435</td>\n",
       "      <td>1.779462</td>\n",
       "      <td>0.087840</td>\n",
       "      <td>9.583856</td>\n",
       "      <td>0</td>\n",
       "      <td>226</td>\n",
       "      <td>0.122375</td>\n",
       "    </tr>\n",
       "    <tr>\n",
       "      <th rowspan=\"2\" valign=\"top\">Alfredo Wagner</th>\n",
       "      <th>SBFL</th>\n",
       "      <td>124.464</td>\n",
       "      <td>6143.470</td>\n",
       "      <td>11.451159</td>\n",
       "      <td>0.473263</td>\n",
       "      <td>1.779462</td>\n",
       "      <td>0.087840</td>\n",
       "      <td>9.583856</td>\n",
       "      <td>0</td>\n",
       "      <td>298</td>\n",
       "      <td>0.246255</td>\n",
       "    </tr>\n",
       "    <tr>\n",
       "      <th>SBJA</th>\n",
       "      <td>189.787</td>\n",
       "      <td>10987.098</td>\n",
       "      <td>22.793438</td>\n",
       "      <td>0.526737</td>\n",
       "      <td>16.086295</td>\n",
       "      <td>0.053743</td>\n",
       "      <td>6.653401</td>\n",
       "      <td>1</td>\n",
       "      <td>16</td>\n",
       "      <td>0.400023</td>\n",
       "    </tr>\n",
       "    <tr>\n",
       "      <th>Alvorada</th>\n",
       "      <th>SBJA</th>\n",
       "      <td>290.006</td>\n",
       "      <td>12964.501</td>\n",
       "      <td>22.793438</td>\n",
       "      <td>0.753302</td>\n",
       "      <td>16.086295</td>\n",
       "      <td>0.053743</td>\n",
       "      <td>6.653401</td>\n",
       "      <td>1</td>\n",
       "      <td>163</td>\n",
       "      <td>0.931942</td>\n",
       "    </tr>\n",
       "    <tr>\n",
       "      <th>Angelina</th>\n",
       "      <th>SBFL</th>\n",
       "      <td>91.349</td>\n",
       "      <td>4536.699</td>\n",
       "      <td>11.451159</td>\n",
       "      <td>0.508555</td>\n",
       "      <td>1.779462</td>\n",
       "      <td>0.087840</td>\n",
       "      <td>9.583856</td>\n",
       "      <td>0</td>\n",
       "      <td>124</td>\n",
       "      <td>0.343461</td>\n",
       "    </tr>\n",
       "    <tr>\n",
       "      <th>...</th>\n",
       "      <th>...</th>\n",
       "      <td>...</td>\n",
       "      <td>...</td>\n",
       "      <td>...</td>\n",
       "      <td>...</td>\n",
       "      <td>...</td>\n",
       "      <td>...</td>\n",
       "      <td>...</td>\n",
       "      <td>...</td>\n",
       "      <td>...</td>\n",
       "      <td>...</td>\n",
       "    </tr>\n",
       "    <tr>\n",
       "      <th>Vidal Ramos</th>\n",
       "      <th>SBFL</th>\n",
       "      <td>181.591</td>\n",
       "      <td>9217.962</td>\n",
       "      <td>11.451159</td>\n",
       "      <td>0.433519</td>\n",
       "      <td>1.779462</td>\n",
       "      <td>0.087840</td>\n",
       "      <td>9.583856</td>\n",
       "      <td>0</td>\n",
       "      <td>51</td>\n",
       "      <td>0.161263</td>\n",
       "    </tr>\n",
       "    <tr>\n",
       "      <th>Videira</th>\n",
       "      <th>SBFL</th>\n",
       "      <td>437.535</td>\n",
       "      <td>20255.160</td>\n",
       "      <td>11.451159</td>\n",
       "      <td>0.324939</td>\n",
       "      <td>1.779462</td>\n",
       "      <td>0.087840</td>\n",
       "      <td>9.583856</td>\n",
       "      <td>0</td>\n",
       "      <td>256</td>\n",
       "      <td>0.043220</td>\n",
       "    </tr>\n",
       "    <tr>\n",
       "      <th rowspan=\"2\" valign=\"top\">Xangri-Lá</th>\n",
       "      <th>SBFL</th>\n",
       "      <td>347.012</td>\n",
       "      <td>14716.562</td>\n",
       "      <td>11.451159</td>\n",
       "      <td>0.210126</td>\n",
       "      <td>1.779462</td>\n",
       "      <td>0.087840</td>\n",
       "      <td>9.583856</td>\n",
       "      <td>0</td>\n",
       "      <td>26</td>\n",
       "      <td>0.009672</td>\n",
       "    </tr>\n",
       "    <tr>\n",
       "      <th>SBJA</th>\n",
       "      <td>177.974</td>\n",
       "      <td>7792.731</td>\n",
       "      <td>22.793438</td>\n",
       "      <td>0.789874</td>\n",
       "      <td>16.086295</td>\n",
       "      <td>0.053743</td>\n",
       "      <td>6.653401</td>\n",
       "      <td>1</td>\n",
       "      <td>50</td>\n",
       "      <td>0.957089</td>\n",
       "    </tr>\n",
       "    <tr>\n",
       "      <th>Águas Mornas</th>\n",
       "      <th>SBFL</th>\n",
       "      <td>54.407</td>\n",
       "      <td>2749.008</td>\n",
       "      <td>11.451159</td>\n",
       "      <td>0.580019</td>\n",
       "      <td>1.779462</td>\n",
       "      <td>0.087840</td>\n",
       "      <td>9.583856</td>\n",
       "      <td>0</td>\n",
       "      <td>741</td>\n",
       "      <td>0.575759</td>\n",
       "    </tr>\n",
       "  </tbody>\n",
       "</table>\n",
       "<p>290 rows × 10 columns</p>\n",
       "</div>"
      ],
      "text/plain": [
       "                       DISTANCIA      TEMPO  ...  quantidadeviagem      prob\n",
       "ORIGEM.x       AERO.x                        ...                            \n",
       "Agrolândia     SBFL      241.013  11909.587  ...               226  0.122375\n",
       "Alfredo Wagner SBFL      124.464   6143.470  ...               298  0.246255\n",
       "               SBJA      189.787  10987.098  ...                16  0.400023\n",
       "Alvorada       SBJA      290.006  12964.501  ...               163  0.931942\n",
       "Angelina       SBFL       91.349   4536.699  ...               124  0.343461\n",
       "...                          ...        ...  ...               ...       ...\n",
       "Vidal Ramos    SBFL      181.591   9217.962  ...                51  0.161263\n",
       "Videira        SBFL      437.535  20255.160  ...               256  0.043220\n",
       "Xangri-Lá      SBFL      347.012  14716.562  ...                26  0.009672\n",
       "               SBJA      177.974   7792.731  ...                50  0.957089\n",
       "Águas Mornas   SBFL       54.407   2749.008  ...               741  0.575759\n",
       "\n",
       "[290 rows x 10 columns]"
      ]
     },
     "execution_count": 23,
     "metadata": {
      "tags": []
     },
     "output_type": "execute_result"
    }
   ],
   "source": [
    "df_check"
   ]
  },
  {
   "cell_type": "code",
   "execution_count": 24,
   "metadata": {
    "colab": {
     "base_uri": "https://localhost:8080/"
    },
    "id": "P6l2BVH6IsuZ",
    "outputId": "251de6b9-c92f-48a8-d82c-ab50429f9374"
   },
   "outputs": [
    {
     "data": {
      "text/plain": [
       "array(['Florianópolis', 'Criciúma', 'São José', 'Palhoça', 'Tubarão',\n",
       "       'Balneário Camboriú', 'Imbituba', 'Garopaba', 'Biguaçu', 'Laguna',\n",
       "       'Curitiba', 'Blumenau', 'Araranguá', 'Itapema', 'Içara'],\n",
       "      dtype=object)"
      ]
     },
     "execution_count": 24,
     "metadata": {
      "tags": []
     },
     "output_type": "execute_result"
    }
   ],
   "source": [
    "ordem = pd.DataFrame(df_check.groupby([\"ORIGEM.x\"])[\"quantidadeviagem\"].sum())\n",
    "ordem = ordem.sort_values(by='quantidadeviagem', ascending=False)\n",
    "ordem = ordem.head(15)\n",
    "ordem.index.values"
   ]
  },
  {
   "cell_type": "code",
   "execution_count": 25,
   "metadata": {
    "colab": {
     "base_uri": "https://localhost:8080/",
     "height": 450
    },
    "id": "_MG2gkW_KcKf",
    "outputId": "b9d68128-9334-462e-a099-c7a10cc39672"
   },
   "outputs": [
    {
     "data": {
      "text/html": [
       "<div>\n",
       "<style scoped>\n",
       "    .dataframe tbody tr th:only-of-type {\n",
       "        vertical-align: middle;\n",
       "    }\n",
       "\n",
       "    .dataframe tbody tr th {\n",
       "        vertical-align: top;\n",
       "    }\n",
       "\n",
       "    .dataframe thead th {\n",
       "        text-align: right;\n",
       "    }\n",
       "</style>\n",
       "<table border=\"1\" class=\"dataframe\">\n",
       "  <thead>\n",
       "    <tr style=\"text-align: right;\">\n",
       "      <th></th>\n",
       "      <th></th>\n",
       "      <th>quantidadeviagem</th>\n",
       "      <th>modelo</th>\n",
       "    </tr>\n",
       "    <tr>\n",
       "      <th>ORIGEM.x</th>\n",
       "      <th>AERO.x</th>\n",
       "      <th></th>\n",
       "      <th></th>\n",
       "    </tr>\n",
       "  </thead>\n",
       "  <tbody>\n",
       "    <tr>\n",
       "      <th>Agrolândia</th>\n",
       "      <th>SBFL</th>\n",
       "      <td>226</td>\n",
       "      <td>226</td>\n",
       "    </tr>\n",
       "    <tr>\n",
       "      <th rowspan=\"2\" valign=\"top\">Alfredo Wagner</th>\n",
       "      <th>SBFL</th>\n",
       "      <td>298</td>\n",
       "      <td>288</td>\n",
       "    </tr>\n",
       "    <tr>\n",
       "      <th>SBJA</th>\n",
       "      <td>16</td>\n",
       "      <td>25</td>\n",
       "    </tr>\n",
       "    <tr>\n",
       "      <th>Alvorada</th>\n",
       "      <th>SBJA</th>\n",
       "      <td>163</td>\n",
       "      <td>163</td>\n",
       "    </tr>\n",
       "    <tr>\n",
       "      <th>Angelina</th>\n",
       "      <th>SBFL</th>\n",
       "      <td>124</td>\n",
       "      <td>124</td>\n",
       "    </tr>\n",
       "    <tr>\n",
       "      <th>...</th>\n",
       "      <th>...</th>\n",
       "      <td>...</td>\n",
       "      <td>...</td>\n",
       "    </tr>\n",
       "    <tr>\n",
       "      <th>Vidal Ramos</th>\n",
       "      <th>SBFL</th>\n",
       "      <td>51</td>\n",
       "      <td>51</td>\n",
       "    </tr>\n",
       "    <tr>\n",
       "      <th>Videira</th>\n",
       "      <th>SBFL</th>\n",
       "      <td>256</td>\n",
       "      <td>256</td>\n",
       "    </tr>\n",
       "    <tr>\n",
       "      <th rowspan=\"2\" valign=\"top\">Xangri-Lá</th>\n",
       "      <th>SBFL</th>\n",
       "      <td>26</td>\n",
       "      <td>0</td>\n",
       "    </tr>\n",
       "    <tr>\n",
       "      <th>SBJA</th>\n",
       "      <td>50</td>\n",
       "      <td>75</td>\n",
       "    </tr>\n",
       "    <tr>\n",
       "      <th>Águas Mornas</th>\n",
       "      <th>SBFL</th>\n",
       "      <td>741</td>\n",
       "      <td>741</td>\n",
       "    </tr>\n",
       "  </tbody>\n",
       "</table>\n",
       "<p>290 rows × 2 columns</p>\n",
       "</div>"
      ],
      "text/plain": [
       "                       quantidadeviagem  modelo\n",
       "ORIGEM.x       AERO.x                          \n",
       "Agrolândia     SBFL                 226     226\n",
       "Alfredo Wagner SBFL                 298     288\n",
       "               SBJA                  16      25\n",
       "Alvorada       SBJA                 163     163\n",
       "Angelina       SBFL                 124     124\n",
       "...                                 ...     ...\n",
       "Vidal Ramos    SBFL                  51      51\n",
       "Videira        SBFL                 256     256\n",
       "Xangri-Lá      SBFL                  26       0\n",
       "               SBJA                  50      75\n",
       "Águas Mornas   SBFL                 741     741\n",
       "\n",
       "[290 rows x 2 columns]"
      ]
     },
     "execution_count": 25,
     "metadata": {
      "tags": []
     },
     "output_type": "execute_result"
    }
   ],
   "source": [
    "grupo = df_check\n",
    "#[[\"Porto Alegre\" , \"Florianópolis\",\"Criciúma\",'São José', 'Palhoça', 'Tubarão']]\n",
    "       #'Balneário Camboriú', 'Imbituba', 'Garopaba', 'Biguaçu', 'Laguna',\n",
    "       #'Curitiba', 'Blumenau', 'Araranguá', 'Itapema', 'Içara']]\n",
    "grupo = grupo[[\"quantidadeviagem\", \"prob\"]]\n",
    "\n",
    "#grupo = df_check\n",
    "soma = pd.DataFrame(grupo.groupby([\"ORIGEM.x\"])[\"quantidadeviagem\"].sum())\n",
    "soma.rename(columns={'quantidadeviagem':'totalviagem'}, inplace=True)\n",
    "grupo = pd.merge(grupo, soma, left_index=True, right_index=True)\n",
    "\n",
    "#soma_prob = pd.DataFrame(grupo.groupby([\"ORIGEM.x\"])[\"prob\"].sum())\n",
    "#grupo = pd.merge(grupo, soma_prob, left_index=True, right_index=True)\n",
    "\n",
    "#grupo[\"prob\"] = grupo[\"prob_x\"]/grupo[\"prob_y\"]\n",
    "#grupo[\"modelo\"] = grupo[\"prob\"]*grupo[\"totalviagem\"]\n",
    "#grupo=grupo[[\"quantidadeviagem\" , \"modelo\"]]\n",
    "#grupo[\"erro%\"] = ((grupo[\"modelo\"] - grupo[\"quantidadeviagem\"])/grupo[\"quantidadeviagem\"])*100\n",
    "#grupo[\"erro%\"] = grupo[\"erro%\"].astype(int)\n",
    "#grupo[\"modelo\"] = grupo[\"modelo\"].astype(int)\n",
    "\n",
    "grupo[\"mult\"] = grupo[\"quantidadeviagem\"]*grupo[\"prob\"]\n",
    "\n",
    "soma = pd.DataFrame(grupo.groupby([\"ORIGEM.x\"])[\"mult\"].sum())\n",
    "#soma.rename(columns={'quantidadeviagem':'totalviagem'}, inplace=True)\n",
    "grupo = pd.merge(grupo, soma, left_index=True, right_index=True)\n",
    "\n",
    "grupo[\"prob_final\"] = grupo[\"mult_x\"]/grupo[\"mult_y\"]\n",
    "grupo[\"modelo\"] = grupo[\"prob_final\"]*grupo[\"totalviagem\"]\n",
    "grupo[\"modelo\"] = grupo[\"modelo\"].astype(int)\n",
    "\n",
    "grupo = grupo[[\"quantidadeviagem\",\"modelo\"]]\n",
    "grupo"
   ]
  },
  {
   "cell_type": "code",
   "execution_count": 26,
   "metadata": {
    "colab": {
     "base_uri": "https://localhost:8080/",
     "height": 17
    },
    "id": "E_rUpZ6ePHev",
    "outputId": "e61be52f-1803-4d22-9719-c89991d04a31"
   },
   "outputs": [
    {
     "data": {
      "application/javascript": [
       "\n",
       "    async function download(id, filename, size) {\n",
       "      if (!google.colab.kernel.accessAllowed) {\n",
       "        return;\n",
       "      }\n",
       "      const div = document.createElement('div');\n",
       "      const label = document.createElement('label');\n",
       "      label.textContent = `Downloading \"${filename}\": `;\n",
       "      div.appendChild(label);\n",
       "      const progress = document.createElement('progress');\n",
       "      progress.max = size;\n",
       "      div.appendChild(progress);\n",
       "      document.body.appendChild(div);\n",
       "\n",
       "      const buffers = [];\n",
       "      let downloaded = 0;\n",
       "\n",
       "      const channel = await google.colab.kernel.comms.open(id);\n",
       "      // Send a message to notify the kernel that we're ready.\n",
       "      channel.send({})\n",
       "\n",
       "      for await (const message of channel.messages) {\n",
       "        // Send a message to notify the kernel that we're ready.\n",
       "        channel.send({})\n",
       "        if (message.buffers) {\n",
       "          for (const buffer of message.buffers) {\n",
       "            buffers.push(buffer);\n",
       "            downloaded += buffer.byteLength;\n",
       "            progress.value = downloaded;\n",
       "          }\n",
       "        }\n",
       "      }\n",
       "      const blob = new Blob(buffers, {type: 'application/binary'});\n",
       "      const a = document.createElement('a');\n",
       "      a.href = window.URL.createObjectURL(blob);\n",
       "      a.download = filename;\n",
       "      div.appendChild(a);\n",
       "      a.click();\n",
       "      div.remove();\n",
       "    }\n",
       "  "
      ],
      "text/plain": [
       "<IPython.core.display.Javascript object>"
      ]
     },
     "metadata": {
      "tags": []
     },
     "output_type": "display_data"
    },
    {
     "data": {
      "application/javascript": [
       "download(\"download_06804ad2-8fbe-4f22-9fd0-251f487805e0\", \"modelo_resultados_novo.xlsx\", 14181)"
      ],
      "text/plain": [
       "<IPython.core.display.Javascript object>"
      ]
     },
     "metadata": {
      "tags": []
     },
     "output_type": "display_data"
    }
   ],
   "source": [
    "grupo = grupo.reset_index(drop=False)\n",
    "from google.colab import files\n",
    "grupo.to_excel(r'modelo_resultados_novo.xlsx', header=True)\n",
    "files.download(\"/content/modelo_resultados_novo.xlsx\")"
   ]
  },
  {
   "cell_type": "markdown",
   "metadata": {
    "id": "nBpbw_iF-Q5e"
   },
   "source": [
    "## Reequilibrio somente em Florianópolis\n"
   ]
  },
  {
   "cell_type": "code",
   "execution_count": null,
   "metadata": {
    "colab": {
     "base_uri": "https://localhost:8080/",
     "height": 419
    },
    "id": "XKpXWaPqOXki",
    "outputId": "277efe80-e657-4152-d2c9-2a875d266cee"
   },
   "outputs": [
    {
     "data": {
      "text/html": [
       "<div>\n",
       "<style scoped>\n",
       "    .dataframe tbody tr th:only-of-type {\n",
       "        vertical-align: middle;\n",
       "    }\n",
       "\n",
       "    .dataframe tbody tr th {\n",
       "        vertical-align: top;\n",
       "    }\n",
       "\n",
       "    .dataframe thead th {\n",
       "        text-align: right;\n",
       "    }\n",
       "</style>\n",
       "<table border=\"1\" class=\"dataframe\">\n",
       "  <thead>\n",
       "    <tr style=\"text-align: right;\">\n",
       "      <th></th>\n",
       "      <th>ORIGEM.x</th>\n",
       "      <th>AERO.x</th>\n",
       "      <th>quantidadeviagem</th>\n",
       "      <th>DISTANCIA</th>\n",
       "      <th>TEMPO</th>\n",
       "      <th>UTILIDADE</th>\n",
       "      <th>ATRATIVIDADE</th>\n",
       "      <th>U_TARIFA</th>\n",
       "      <th>U_PONTUALIDADE</th>\n",
       "      <th>U_CONECTIVIDADE</th>\n",
       "      <th>AERO_C</th>\n",
       "    </tr>\n",
       "  </thead>\n",
       "  <tbody>\n",
       "    <tr>\n",
       "      <th>4474</th>\n",
       "      <td>Florianópolis</td>\n",
       "      <td>SBFL</td>\n",
       "      <td>8</td>\n",
       "      <td>16.936</td>\n",
       "      <td>849.582</td>\n",
       "      <td>11.451159</td>\n",
       "      <td>0.811151</td>\n",
       "      <td>1.779462</td>\n",
       "      <td>0.087840</td>\n",
       "      <td>9.583856</td>\n",
       "      <td>0</td>\n",
       "    </tr>\n",
       "    <tr>\n",
       "      <th>4475</th>\n",
       "      <td>Florianópolis</td>\n",
       "      <td>SBFL</td>\n",
       "      <td>50</td>\n",
       "      <td>16.936</td>\n",
       "      <td>849.582</td>\n",
       "      <td>11.451159</td>\n",
       "      <td>0.811151</td>\n",
       "      <td>1.779462</td>\n",
       "      <td>0.087840</td>\n",
       "      <td>9.583856</td>\n",
       "      <td>0</td>\n",
       "    </tr>\n",
       "    <tr>\n",
       "      <th>4476</th>\n",
       "      <td>Florianópolis</td>\n",
       "      <td>SBFL</td>\n",
       "      <td>10</td>\n",
       "      <td>16.936</td>\n",
       "      <td>849.582</td>\n",
       "      <td>11.451159</td>\n",
       "      <td>0.811151</td>\n",
       "      <td>1.779462</td>\n",
       "      <td>0.087840</td>\n",
       "      <td>9.583856</td>\n",
       "      <td>0</td>\n",
       "    </tr>\n",
       "    <tr>\n",
       "      <th>4477</th>\n",
       "      <td>Florianópolis</td>\n",
       "      <td>SBFL</td>\n",
       "      <td>48</td>\n",
       "      <td>16.936</td>\n",
       "      <td>849.582</td>\n",
       "      <td>11.451159</td>\n",
       "      <td>0.811151</td>\n",
       "      <td>1.779462</td>\n",
       "      <td>0.087840</td>\n",
       "      <td>9.583856</td>\n",
       "      <td>0</td>\n",
       "    </tr>\n",
       "    <tr>\n",
       "      <th>4478</th>\n",
       "      <td>Florianópolis</td>\n",
       "      <td>SBFL</td>\n",
       "      <td>19</td>\n",
       "      <td>16.936</td>\n",
       "      <td>849.582</td>\n",
       "      <td>11.451159</td>\n",
       "      <td>0.811151</td>\n",
       "      <td>1.779462</td>\n",
       "      <td>0.087840</td>\n",
       "      <td>9.583856</td>\n",
       "      <td>0</td>\n",
       "    </tr>\n",
       "    <tr>\n",
       "      <th>...</th>\n",
       "      <td>...</td>\n",
       "      <td>...</td>\n",
       "      <td>...</td>\n",
       "      <td>...</td>\n",
       "      <td>...</td>\n",
       "      <td>...</td>\n",
       "      <td>...</td>\n",
       "      <td>...</td>\n",
       "      <td>...</td>\n",
       "      <td>...</td>\n",
       "      <td>...</td>\n",
       "    </tr>\n",
       "    <tr>\n",
       "      <th>12839</th>\n",
       "      <td>Florianópolis</td>\n",
       "      <td>SBJA</td>\n",
       "      <td>16</td>\n",
       "      <td>166.752</td>\n",
       "      <td>7263.611</td>\n",
       "      <td>22.793438</td>\n",
       "      <td>0.188849</td>\n",
       "      <td>16.086295</td>\n",
       "      <td>0.053743</td>\n",
       "      <td>6.653401</td>\n",
       "      <td>1</td>\n",
       "    </tr>\n",
       "    <tr>\n",
       "      <th>12840</th>\n",
       "      <td>Florianópolis</td>\n",
       "      <td>SBJA</td>\n",
       "      <td>4</td>\n",
       "      <td>166.752</td>\n",
       "      <td>7263.611</td>\n",
       "      <td>22.793438</td>\n",
       "      <td>0.188849</td>\n",
       "      <td>16.086295</td>\n",
       "      <td>0.053743</td>\n",
       "      <td>6.653401</td>\n",
       "      <td>1</td>\n",
       "    </tr>\n",
       "    <tr>\n",
       "      <th>12841</th>\n",
       "      <td>Florianópolis</td>\n",
       "      <td>SBJA</td>\n",
       "      <td>16</td>\n",
       "      <td>166.752</td>\n",
       "      <td>7263.611</td>\n",
       "      <td>22.793438</td>\n",
       "      <td>0.188849</td>\n",
       "      <td>16.086295</td>\n",
       "      <td>0.053743</td>\n",
       "      <td>6.653401</td>\n",
       "      <td>1</td>\n",
       "    </tr>\n",
       "    <tr>\n",
       "      <th>12842</th>\n",
       "      <td>Florianópolis</td>\n",
       "      <td>SBJA</td>\n",
       "      <td>19</td>\n",
       "      <td>166.752</td>\n",
       "      <td>7263.611</td>\n",
       "      <td>22.793438</td>\n",
       "      <td>0.188849</td>\n",
       "      <td>16.086295</td>\n",
       "      <td>0.053743</td>\n",
       "      <td>6.653401</td>\n",
       "      <td>1</td>\n",
       "    </tr>\n",
       "    <tr>\n",
       "      <th>12843</th>\n",
       "      <td>Florianópolis</td>\n",
       "      <td>SBJA</td>\n",
       "      <td>10</td>\n",
       "      <td>166.752</td>\n",
       "      <td>7263.611</td>\n",
       "      <td>22.793438</td>\n",
       "      <td>0.188849</td>\n",
       "      <td>16.086295</td>\n",
       "      <td>0.053743</td>\n",
       "      <td>6.653401</td>\n",
       "      <td>1</td>\n",
       "    </tr>\n",
       "  </tbody>\n",
       "</table>\n",
       "<p>8370 rows × 11 columns</p>\n",
       "</div>"
      ],
      "text/plain": [
       "            ORIGEM.x AERO.x  ...  U_CONECTIVIDADE  AERO_C\n",
       "4474   Florianópolis   SBFL  ...         9.583856       0\n",
       "4475   Florianópolis   SBFL  ...         9.583856       0\n",
       "4476   Florianópolis   SBFL  ...         9.583856       0\n",
       "4477   Florianópolis   SBFL  ...         9.583856       0\n",
       "4478   Florianópolis   SBFL  ...         9.583856       0\n",
       "...              ...    ...  ...              ...     ...\n",
       "12839  Florianópolis   SBJA  ...         6.653401       1\n",
       "12840  Florianópolis   SBJA  ...         6.653401       1\n",
       "12841  Florianópolis   SBJA  ...         6.653401       1\n",
       "12842  Florianópolis   SBJA  ...         6.653401       1\n",
       "12843  Florianópolis   SBJA  ...         6.653401       1\n",
       "\n",
       "[8370 rows x 11 columns]"
      ]
     },
     "execution_count": 62,
     "metadata": {
      "tags": []
     },
     "output_type": "execute_result"
    }
   ],
   "source": [
    "#df_novo.filter(like = 'Florianópolis', axis=0)\n",
    "floripa = df[df['ORIGEM.x'] == 'Florianópolis']\n",
    "floripa"
   ]
  },
  {
   "cell_type": "code",
   "execution_count": null,
   "metadata": {
    "colab": {
     "base_uri": "https://localhost:8080/",
     "height": 555
    },
    "id": "4EWxNMFsYcIt",
    "outputId": "6554e12d-ddab-437c-e9bb-4ed19468d6c7"
   },
   "outputs": [
    {
     "name": "stdout",
     "output_type": "stream",
     "text": [
      "ORIGEM.x       AERO.x  quantidadeviagem  DISTANCIA  TEMPO    UTILIDADE  ATRATIVIDADE  U_TARIFA  U_PONTUALIDADE  U_CONECTIVIDADE  AERO_C\n",
      "Florianópolis  SBFL    19                16.936     849.582  11.451159  0.811151      1.779462  0.08784         9.583856         0         703\n",
      "                       10                16.936     849.582  11.451159  0.811151      1.779462  0.08784         9.583856         0         597\n",
      "                       18                16.936     849.582  11.451159  0.811151      1.779462  0.08784         9.583856         0         372\n",
      "                       8                 16.936     849.582  11.451159  0.811151      1.779462  0.08784         9.583856         0         303\n",
      "                       14                16.936     849.582  11.451159  0.811151      1.779462  0.08784         9.583856         0         296\n",
      "                                                                                                                                          ... \n",
      "                       1262              16.936     849.582  11.451159  0.811151      1.779462  0.08784         9.583856         0           1\n",
      "                       1260              16.936     849.582  11.451159  0.811151      1.779462  0.08784         9.583856         0           1\n",
      "                       1250              16.936     849.582  11.451159  0.811151      1.779462  0.08784         9.583856         0           1\n",
      "                       1239              16.936     849.582  11.451159  0.811151      1.779462  0.08784         9.583856         0           1\n",
      "                       534               16.936     849.582  11.451159  0.811151      1.779462  0.08784         9.583856         0           1\n",
      "Length: 723, dtype: int64\n"
     ]
    },
    {
     "name": "stderr",
     "output_type": "stream",
     "text": [
      "/usr/local/lib/python3.7/dist-packages/seaborn/_decorators.py:43: FutureWarning: Pass the following variable as a keyword arg: x. From version 0.12, the only valid positional argument will be `data`, and passing other arguments without an explicit keyword will result in an error or misinterpretation.\n",
      "  FutureWarning\n"
     ]
    },
    {
     "data": {
      "image/png": "[encoded data removed]",
      "text/plain": [
       "<Figure size 432x288 with 1 Axes>"
      ]
     },
     "metadata": {
      "needs_background": "light",
      "tags": []
     },
     "output_type": "display_data"
    }
   ],
   "source": [
    "print(floripa.value_counts())\n",
    "sns.countplot('AERO_C', data=floripa);"
   ]
  },
  {
   "cell_type": "code",
   "execution_count": null,
   "metadata": {
    "colab": {
     "base_uri": "https://localhost:8080/"
    },
    "id": "5Ouo5VfaRQbk",
    "outputId": "2b3ef52e-d690-40fa-a81c-b1f7ab15d55f"
   },
   "outputs": [
    {
     "name": "stderr",
     "output_type": "stream",
     "text": [
      "/usr/local/lib/python3.7/dist-packages/sklearn/utils/deprecation.py:87: FutureWarning: Function safe_indexing is deprecated; safe_indexing is deprecated in version 0.22 and will be removed in version 0.24.\n",
      "  warnings.warn(msg, category=FutureWarning)\n"
     ]
    }
   ],
   "source": [
    "from imblearn.under_sampling import RandomUnderSampler \n",
    "rus = RandomUnderSampler()\n",
    "y = floripa[\"AERO_C\"]\n",
    "x = floripa[[\"ORIGEM.x\",\"AERO.x\", \"quantidadeviagem\",\"DISTANCIA\", \"TEMPO\",\"UTILIDADE\", \"ATRATIVIDADE\", \"U_TARIFA\",\"U_PONTUALIDADE\",\"U_CONECTIVIDADE\",  \"AERO_C\"]]\n",
    "x_res, y_res = rus.fit_sample(x, y)\n",
    "x_res = pd.DataFrame(data=x_res,columns=[\"ORIGEM.x\",\"AERO.x\", \"quantidadeviagem\",\"DISTANCIA\", \"TEMPO\",\"UTILIDADE\", \"ATRATIVIDADE\", \"U_TARIFA\",\"U_PONTUALIDADE\",\"U_CONECTIVIDADE\",  \"AERO_C\"])"
   ]
  },
  {
   "cell_type": "code",
   "execution_count": null,
   "metadata": {
    "colab": {
     "base_uri": "https://localhost:8080/",
     "height": 555
    },
    "id": "pvmL1WcTYl8A",
    "outputId": "306a589e-d317-4ed4-9944-4bc196f5594a"
   },
   "outputs": [
    {
     "name": "stdout",
     "output_type": "stream",
     "text": [
      "ORIGEM.x       AERO.x  quantidadeviagem  DISTANCIA  TEMPO    UTILIDADE  ATRATIVIDADE  U_TARIFA  U_PONTUALIDADE  U_CONECTIVIDADE  AERO_C\n",
      "Florianópolis  SBFL    19                16.936     849.582  11.451159  0.811151      1.779462  0.08784         9.583856         0         703\n",
      "                       10                16.936     849.582  11.451159  0.811151      1.779462  0.08784         9.583856         0         597\n",
      "                       18                16.936     849.582  11.451159  0.811151      1.779462  0.08784         9.583856         0         372\n",
      "                       8                 16.936     849.582  11.451159  0.811151      1.779462  0.08784         9.583856         0         303\n",
      "                       14                16.936     849.582  11.451159  0.811151      1.779462  0.08784         9.583856         0         296\n",
      "                                                                                                                                          ... \n",
      "                       1262              16.936     849.582  11.451159  0.811151      1.779462  0.08784         9.583856         0           1\n",
      "                       1260              16.936     849.582  11.451159  0.811151      1.779462  0.08784         9.583856         0           1\n",
      "                       1250              16.936     849.582  11.451159  0.811151      1.779462  0.08784         9.583856         0           1\n",
      "                       1239              16.936     849.582  11.451159  0.811151      1.779462  0.08784         9.583856         0           1\n",
      "                       534               16.936     849.582  11.451159  0.811151      1.779462  0.08784         9.583856         0           1\n",
      "Length: 723, dtype: int64\n"
     ]
    },
    {
     "name": "stderr",
     "output_type": "stream",
     "text": [
      "/usr/local/lib/python3.7/dist-packages/seaborn/_decorators.py:43: FutureWarning: Pass the following variable as a keyword arg: x. From version 0.12, the only valid positional argument will be `data`, and passing other arguments without an explicit keyword will result in an error or misinterpretation.\n",
      "  FutureWarning\n"
     ]
    },
    {
     "data": {
      "image/png": "[encoded data removed]",
      "text/plain": [
       "<Figure size 432x288 with 1 Axes>"
      ]
     },
     "metadata": {
      "needs_background": "light",
      "tags": []
     },
     "output_type": "display_data"
    }
   ],
   "source": [
    "print(floripa.value_counts())\n",
    "sns.countplot('AERO_C', data=x_res);"
   ]
  },
  {
   "cell_type": "code",
   "execution_count": null,
   "metadata": {
    "colab": {
     "base_uri": "https://localhost:8080/",
     "height": 419
    },
    "id": "p_3NbFuSTAxs",
    "outputId": "8d0171d2-a174-40bc-f2d5-71d0a5228d07"
   },
   "outputs": [
    {
     "data": {
      "text/html": [
       "<div>\n",
       "<style scoped>\n",
       "    .dataframe tbody tr th:only-of-type {\n",
       "        vertical-align: middle;\n",
       "    }\n",
       "\n",
       "    .dataframe tbody tr th {\n",
       "        vertical-align: top;\n",
       "    }\n",
       "\n",
       "    .dataframe thead th {\n",
       "        text-align: right;\n",
       "    }\n",
       "</style>\n",
       "<table border=\"1\" class=\"dataframe\">\n",
       "  <thead>\n",
       "    <tr style=\"text-align: right;\">\n",
       "      <th></th>\n",
       "      <th>ORIGEM.x</th>\n",
       "      <th>AERO.x</th>\n",
       "      <th>quantidadeviagem</th>\n",
       "      <th>DISTANCIA</th>\n",
       "      <th>TEMPO</th>\n",
       "      <th>UTILIDADE</th>\n",
       "      <th>ATRATIVIDADE</th>\n",
       "      <th>U_TARIFA</th>\n",
       "      <th>U_PONTUALIDADE</th>\n",
       "      <th>U_CONECTIVIDADE</th>\n",
       "      <th>AERO_C</th>\n",
       "    </tr>\n",
       "  </thead>\n",
       "  <tbody>\n",
       "    <tr>\n",
       "      <th>0</th>\n",
       "      <td>Florianópolis</td>\n",
       "      <td>SBFL</td>\n",
       "      <td>13</td>\n",
       "      <td>16.936</td>\n",
       "      <td>849.582</td>\n",
       "      <td>11.4512</td>\n",
       "      <td>0.811151</td>\n",
       "      <td>1.77946</td>\n",
       "      <td>0.0878404</td>\n",
       "      <td>9.58386</td>\n",
       "      <td>0</td>\n",
       "    </tr>\n",
       "    <tr>\n",
       "      <th>1</th>\n",
       "      <td>Florianópolis</td>\n",
       "      <td>SBFL</td>\n",
       "      <td>56</td>\n",
       "      <td>16.936</td>\n",
       "      <td>849.582</td>\n",
       "      <td>11.4512</td>\n",
       "      <td>0.811151</td>\n",
       "      <td>1.77946</td>\n",
       "      <td>0.0878404</td>\n",
       "      <td>9.58386</td>\n",
       "      <td>0</td>\n",
       "    </tr>\n",
       "    <tr>\n",
       "      <th>2</th>\n",
       "      <td>Florianópolis</td>\n",
       "      <td>SBFL</td>\n",
       "      <td>10958</td>\n",
       "      <td>16.936</td>\n",
       "      <td>849.582</td>\n",
       "      <td>11.4512</td>\n",
       "      <td>0.811151</td>\n",
       "      <td>1.77946</td>\n",
       "      <td>0.0878404</td>\n",
       "      <td>9.58386</td>\n",
       "      <td>0</td>\n",
       "    </tr>\n",
       "    <tr>\n",
       "      <th>3</th>\n",
       "      <td>Florianópolis</td>\n",
       "      <td>SBFL</td>\n",
       "      <td>19</td>\n",
       "      <td>16.936</td>\n",
       "      <td>849.582</td>\n",
       "      <td>11.4512</td>\n",
       "      <td>0.811151</td>\n",
       "      <td>1.77946</td>\n",
       "      <td>0.0878404</td>\n",
       "      <td>9.58386</td>\n",
       "      <td>0</td>\n",
       "    </tr>\n",
       "    <tr>\n",
       "      <th>4</th>\n",
       "      <td>Florianópolis</td>\n",
       "      <td>SBFL</td>\n",
       "      <td>5</td>\n",
       "      <td>16.936</td>\n",
       "      <td>849.582</td>\n",
       "      <td>11.4512</td>\n",
       "      <td>0.811151</td>\n",
       "      <td>1.77946</td>\n",
       "      <td>0.0878404</td>\n",
       "      <td>9.58386</td>\n",
       "      <td>0</td>\n",
       "    </tr>\n",
       "    <tr>\n",
       "      <th>...</th>\n",
       "      <td>...</td>\n",
       "      <td>...</td>\n",
       "      <td>...</td>\n",
       "      <td>...</td>\n",
       "      <td>...</td>\n",
       "      <td>...</td>\n",
       "      <td>...</td>\n",
       "      <td>...</td>\n",
       "      <td>...</td>\n",
       "      <td>...</td>\n",
       "      <td>...</td>\n",
       "    </tr>\n",
       "    <tr>\n",
       "      <th>153</th>\n",
       "      <td>Florianópolis</td>\n",
       "      <td>SBJA</td>\n",
       "      <td>16</td>\n",
       "      <td>166.752</td>\n",
       "      <td>7263.61</td>\n",
       "      <td>22.7934</td>\n",
       "      <td>0.188849</td>\n",
       "      <td>16.0863</td>\n",
       "      <td>0.0537425</td>\n",
       "      <td>6.6534</td>\n",
       "      <td>1</td>\n",
       "    </tr>\n",
       "    <tr>\n",
       "      <th>154</th>\n",
       "      <td>Florianópolis</td>\n",
       "      <td>SBJA</td>\n",
       "      <td>4</td>\n",
       "      <td>166.752</td>\n",
       "      <td>7263.61</td>\n",
       "      <td>22.7934</td>\n",
       "      <td>0.188849</td>\n",
       "      <td>16.0863</td>\n",
       "      <td>0.0537425</td>\n",
       "      <td>6.6534</td>\n",
       "      <td>1</td>\n",
       "    </tr>\n",
       "    <tr>\n",
       "      <th>155</th>\n",
       "      <td>Florianópolis</td>\n",
       "      <td>SBJA</td>\n",
       "      <td>16</td>\n",
       "      <td>166.752</td>\n",
       "      <td>7263.61</td>\n",
       "      <td>22.7934</td>\n",
       "      <td>0.188849</td>\n",
       "      <td>16.0863</td>\n",
       "      <td>0.0537425</td>\n",
       "      <td>6.6534</td>\n",
       "      <td>1</td>\n",
       "    </tr>\n",
       "    <tr>\n",
       "      <th>156</th>\n",
       "      <td>Florianópolis</td>\n",
       "      <td>SBJA</td>\n",
       "      <td>19</td>\n",
       "      <td>166.752</td>\n",
       "      <td>7263.61</td>\n",
       "      <td>22.7934</td>\n",
       "      <td>0.188849</td>\n",
       "      <td>16.0863</td>\n",
       "      <td>0.0537425</td>\n",
       "      <td>6.6534</td>\n",
       "      <td>1</td>\n",
       "    </tr>\n",
       "    <tr>\n",
       "      <th>157</th>\n",
       "      <td>Florianópolis</td>\n",
       "      <td>SBJA</td>\n",
       "      <td>10</td>\n",
       "      <td>166.752</td>\n",
       "      <td>7263.61</td>\n",
       "      <td>22.7934</td>\n",
       "      <td>0.188849</td>\n",
       "      <td>16.0863</td>\n",
       "      <td>0.0537425</td>\n",
       "      <td>6.6534</td>\n",
       "      <td>1</td>\n",
       "    </tr>\n",
       "  </tbody>\n",
       "</table>\n",
       "<p>158 rows × 11 columns</p>\n",
       "</div>"
      ],
      "text/plain": [
       "          ORIGEM.x AERO.x  ... U_CONECTIVIDADE AERO_C\n",
       "0    Florianópolis   SBFL  ...         9.58386      0\n",
       "1    Florianópolis   SBFL  ...         9.58386      0\n",
       "2    Florianópolis   SBFL  ...         9.58386      0\n",
       "3    Florianópolis   SBFL  ...         9.58386      0\n",
       "4    Florianópolis   SBFL  ...         9.58386      0\n",
       "..             ...    ...  ...             ...    ...\n",
       "153  Florianópolis   SBJA  ...          6.6534      1\n",
       "154  Florianópolis   SBJA  ...          6.6534      1\n",
       "155  Florianópolis   SBJA  ...          6.6534      1\n",
       "156  Florianópolis   SBJA  ...          6.6534      1\n",
       "157  Florianópolis   SBJA  ...          6.6534      1\n",
       "\n",
       "[158 rows x 11 columns]"
      ]
     },
     "execution_count": 66,
     "metadata": {
      "tags": []
     },
     "output_type": "execute_result"
    }
   ],
   "source": [
    "x_res"
   ]
  },
  {
   "cell_type": "code",
   "execution_count": null,
   "metadata": {
    "colab": {
     "base_uri": "https://localhost:8080/",
     "height": 419
    },
    "id": "UCEV_tXLT1aS",
    "outputId": "9173a9ef-1b80-4961-a750-9e62f380f0f3"
   },
   "outputs": [
    {
     "data": {
      "text/html": [
       "<div>\n",
       "<style scoped>\n",
       "    .dataframe tbody tr th:only-of-type {\n",
       "        vertical-align: middle;\n",
       "    }\n",
       "\n",
       "    .dataframe tbody tr th {\n",
       "        vertical-align: top;\n",
       "    }\n",
       "\n",
       "    .dataframe thead th {\n",
       "        text-align: right;\n",
       "    }\n",
       "</style>\n",
       "<table border=\"1\" class=\"dataframe\">\n",
       "  <thead>\n",
       "    <tr style=\"text-align: right;\">\n",
       "      <th></th>\n",
       "      <th>ORIGEM.x</th>\n",
       "      <th>AERO.x</th>\n",
       "      <th>quantidadeviagem</th>\n",
       "      <th>DISTANCIA</th>\n",
       "      <th>TEMPO</th>\n",
       "      <th>UTILIDADE</th>\n",
       "      <th>ATRATIVIDADE</th>\n",
       "      <th>U_TARIFA</th>\n",
       "      <th>U_PONTUALIDADE</th>\n",
       "      <th>U_CONECTIVIDADE</th>\n",
       "      <th>AERO_C</th>\n",
       "    </tr>\n",
       "  </thead>\n",
       "  <tbody>\n",
       "    <tr>\n",
       "      <th>0</th>\n",
       "      <td>Agrolândia</td>\n",
       "      <td>SBFL</td>\n",
       "      <td>30</td>\n",
       "      <td>241.013</td>\n",
       "      <td>11909.587</td>\n",
       "      <td>11.451159</td>\n",
       "      <td>0.409435</td>\n",
       "      <td>1.779462</td>\n",
       "      <td>0.087840</td>\n",
       "      <td>9.583856</td>\n",
       "      <td>0</td>\n",
       "    </tr>\n",
       "    <tr>\n",
       "      <th>1</th>\n",
       "      <td>Agrolândia</td>\n",
       "      <td>SBFL</td>\n",
       "      <td>29</td>\n",
       "      <td>241.013</td>\n",
       "      <td>11909.587</td>\n",
       "      <td>11.451159</td>\n",
       "      <td>0.409435</td>\n",
       "      <td>1.779462</td>\n",
       "      <td>0.087840</td>\n",
       "      <td>9.583856</td>\n",
       "      <td>0</td>\n",
       "    </tr>\n",
       "    <tr>\n",
       "      <th>2</th>\n",
       "      <td>Agrolândia</td>\n",
       "      <td>SBFL</td>\n",
       "      <td>30</td>\n",
       "      <td>241.013</td>\n",
       "      <td>11909.587</td>\n",
       "      <td>11.451159</td>\n",
       "      <td>0.409435</td>\n",
       "      <td>1.779462</td>\n",
       "      <td>0.087840</td>\n",
       "      <td>9.583856</td>\n",
       "      <td>0</td>\n",
       "    </tr>\n",
       "    <tr>\n",
       "      <th>3</th>\n",
       "      <td>Agrolândia</td>\n",
       "      <td>SBFL</td>\n",
       "      <td>29</td>\n",
       "      <td>241.013</td>\n",
       "      <td>11909.587</td>\n",
       "      <td>11.451159</td>\n",
       "      <td>0.409435</td>\n",
       "      <td>1.779462</td>\n",
       "      <td>0.087840</td>\n",
       "      <td>9.583856</td>\n",
       "      <td>0</td>\n",
       "    </tr>\n",
       "    <tr>\n",
       "      <th>4</th>\n",
       "      <td>Agrolândia</td>\n",
       "      <td>SBFL</td>\n",
       "      <td>30</td>\n",
       "      <td>241.013</td>\n",
       "      <td>11909.587</td>\n",
       "      <td>11.451159</td>\n",
       "      <td>0.409435</td>\n",
       "      <td>1.779462</td>\n",
       "      <td>0.087840</td>\n",
       "      <td>9.583856</td>\n",
       "      <td>0</td>\n",
       "    </tr>\n",
       "    <tr>\n",
       "      <th>...</th>\n",
       "      <td>...</td>\n",
       "      <td>...</td>\n",
       "      <td>...</td>\n",
       "      <td>...</td>\n",
       "      <td>...</td>\n",
       "      <td>...</td>\n",
       "      <td>...</td>\n",
       "      <td>...</td>\n",
       "      <td>...</td>\n",
       "      <td>...</td>\n",
       "      <td>...</td>\n",
       "    </tr>\n",
       "    <tr>\n",
       "      <th>20586</th>\n",
       "      <td>Videira</td>\n",
       "      <td>SBFL</td>\n",
       "      <td>16</td>\n",
       "      <td>437.535</td>\n",
       "      <td>20255.160</td>\n",
       "      <td>11.451159</td>\n",
       "      <td>0.324939</td>\n",
       "      <td>1.779462</td>\n",
       "      <td>0.087840</td>\n",
       "      <td>9.583856</td>\n",
       "      <td>0</td>\n",
       "    </tr>\n",
       "    <tr>\n",
       "      <th>20587</th>\n",
       "      <td>Xangri-Lá</td>\n",
       "      <td>SBFL</td>\n",
       "      <td>14</td>\n",
       "      <td>347.012</td>\n",
       "      <td>14716.562</td>\n",
       "      <td>11.451159</td>\n",
       "      <td>0.210126</td>\n",
       "      <td>1.779462</td>\n",
       "      <td>0.087840</td>\n",
       "      <td>9.583856</td>\n",
       "      <td>0</td>\n",
       "    </tr>\n",
       "    <tr>\n",
       "      <th>20588</th>\n",
       "      <td>Xangri-Lá</td>\n",
       "      <td>SBFL</td>\n",
       "      <td>12</td>\n",
       "      <td>347.012</td>\n",
       "      <td>14716.562</td>\n",
       "      <td>11.451159</td>\n",
       "      <td>0.210126</td>\n",
       "      <td>1.779462</td>\n",
       "      <td>0.087840</td>\n",
       "      <td>9.583856</td>\n",
       "      <td>0</td>\n",
       "    </tr>\n",
       "    <tr>\n",
       "      <th>20589</th>\n",
       "      <td>Xangri-Lá</td>\n",
       "      <td>SBJA</td>\n",
       "      <td>40</td>\n",
       "      <td>177.974</td>\n",
       "      <td>7792.731</td>\n",
       "      <td>22.793438</td>\n",
       "      <td>0.789874</td>\n",
       "      <td>16.086295</td>\n",
       "      <td>0.053743</td>\n",
       "      <td>6.653401</td>\n",
       "      <td>1</td>\n",
       "    </tr>\n",
       "    <tr>\n",
       "      <th>20590</th>\n",
       "      <td>Xangri-Lá</td>\n",
       "      <td>SBJA</td>\n",
       "      <td>10</td>\n",
       "      <td>177.974</td>\n",
       "      <td>7792.731</td>\n",
       "      <td>22.793438</td>\n",
       "      <td>0.789874</td>\n",
       "      <td>16.086295</td>\n",
       "      <td>0.053743</td>\n",
       "      <td>6.653401</td>\n",
       "      <td>1</td>\n",
       "    </tr>\n",
       "  </tbody>\n",
       "</table>\n",
       "<p>12221 rows × 11 columns</p>\n",
       "</div>"
      ],
      "text/plain": [
       "         ORIGEM.x AERO.x  ...  U_CONECTIVIDADE  AERO_C\n",
       "0      Agrolândia   SBFL  ...         9.583856       0\n",
       "1      Agrolândia   SBFL  ...         9.583856       0\n",
       "2      Agrolândia   SBFL  ...         9.583856       0\n",
       "3      Agrolândia   SBFL  ...         9.583856       0\n",
       "4      Agrolândia   SBFL  ...         9.583856       0\n",
       "...           ...    ...  ...              ...     ...\n",
       "20586     Videira   SBFL  ...         9.583856       0\n",
       "20587   Xangri-Lá   SBFL  ...         9.583856       0\n",
       "20588   Xangri-Lá   SBFL  ...         9.583856       0\n",
       "20589   Xangri-Lá   SBJA  ...         6.653401       1\n",
       "20590   Xangri-Lá   SBJA  ...         6.653401       1\n",
       "\n",
       "[12221 rows x 11 columns]"
      ]
     },
     "execution_count": 67,
     "metadata": {
      "tags": []
     },
     "output_type": "execute_result"
    }
   ],
   "source": [
    "final = df[df['ORIGEM.x'] != 'Florianópolis']\n",
    "final"
   ]
  },
  {
   "cell_type": "code",
   "execution_count": null,
   "metadata": {
    "colab": {
     "base_uri": "https://localhost:8080/",
     "height": 419
    },
    "id": "YKcMTAUmVD4M",
    "outputId": "e9f15fb9-99d4-4749-c527-c2378012ae4d"
   },
   "outputs": [
    {
     "data": {
      "text/html": [
       "<div>\n",
       "<style scoped>\n",
       "    .dataframe tbody tr th:only-of-type {\n",
       "        vertical-align: middle;\n",
       "    }\n",
       "\n",
       "    .dataframe tbody tr th {\n",
       "        vertical-align: top;\n",
       "    }\n",
       "\n",
       "    .dataframe thead th {\n",
       "        text-align: right;\n",
       "    }\n",
       "</style>\n",
       "<table border=\"1\" class=\"dataframe\">\n",
       "  <thead>\n",
       "    <tr style=\"text-align: right;\">\n",
       "      <th></th>\n",
       "      <th>ORIGEM.x</th>\n",
       "      <th>AERO.x</th>\n",
       "      <th>quantidadeviagem</th>\n",
       "      <th>DISTANCIA</th>\n",
       "      <th>TEMPO</th>\n",
       "      <th>UTILIDADE</th>\n",
       "      <th>ATRATIVIDADE</th>\n",
       "      <th>U_TARIFA</th>\n",
       "      <th>U_PONTUALIDADE</th>\n",
       "      <th>U_CONECTIVIDADE</th>\n",
       "      <th>AERO_C</th>\n",
       "    </tr>\n",
       "  </thead>\n",
       "  <tbody>\n",
       "    <tr>\n",
       "      <th>0</th>\n",
       "      <td>Agrolândia</td>\n",
       "      <td>SBFL</td>\n",
       "      <td>30</td>\n",
       "      <td>241.013</td>\n",
       "      <td>11909.6</td>\n",
       "      <td>11.4512</td>\n",
       "      <td>0.409435</td>\n",
       "      <td>1.77946</td>\n",
       "      <td>0.0878404</td>\n",
       "      <td>9.58386</td>\n",
       "      <td>0</td>\n",
       "    </tr>\n",
       "    <tr>\n",
       "      <th>1</th>\n",
       "      <td>Agrolândia</td>\n",
       "      <td>SBFL</td>\n",
       "      <td>29</td>\n",
       "      <td>241.013</td>\n",
       "      <td>11909.6</td>\n",
       "      <td>11.4512</td>\n",
       "      <td>0.409435</td>\n",
       "      <td>1.77946</td>\n",
       "      <td>0.0878404</td>\n",
       "      <td>9.58386</td>\n",
       "      <td>0</td>\n",
       "    </tr>\n",
       "    <tr>\n",
       "      <th>2</th>\n",
       "      <td>Agrolândia</td>\n",
       "      <td>SBFL</td>\n",
       "      <td>30</td>\n",
       "      <td>241.013</td>\n",
       "      <td>11909.6</td>\n",
       "      <td>11.4512</td>\n",
       "      <td>0.409435</td>\n",
       "      <td>1.77946</td>\n",
       "      <td>0.0878404</td>\n",
       "      <td>9.58386</td>\n",
       "      <td>0</td>\n",
       "    </tr>\n",
       "    <tr>\n",
       "      <th>3</th>\n",
       "      <td>Agrolândia</td>\n",
       "      <td>SBFL</td>\n",
       "      <td>29</td>\n",
       "      <td>241.013</td>\n",
       "      <td>11909.6</td>\n",
       "      <td>11.4512</td>\n",
       "      <td>0.409435</td>\n",
       "      <td>1.77946</td>\n",
       "      <td>0.0878404</td>\n",
       "      <td>9.58386</td>\n",
       "      <td>0</td>\n",
       "    </tr>\n",
       "    <tr>\n",
       "      <th>4</th>\n",
       "      <td>Agrolândia</td>\n",
       "      <td>SBFL</td>\n",
       "      <td>30</td>\n",
       "      <td>241.013</td>\n",
       "      <td>11909.6</td>\n",
       "      <td>11.4512</td>\n",
       "      <td>0.409435</td>\n",
       "      <td>1.77946</td>\n",
       "      <td>0.0878404</td>\n",
       "      <td>9.58386</td>\n",
       "      <td>0</td>\n",
       "    </tr>\n",
       "    <tr>\n",
       "      <th>...</th>\n",
       "      <td>...</td>\n",
       "      <td>...</td>\n",
       "      <td>...</td>\n",
       "      <td>...</td>\n",
       "      <td>...</td>\n",
       "      <td>...</td>\n",
       "      <td>...</td>\n",
       "      <td>...</td>\n",
       "      <td>...</td>\n",
       "      <td>...</td>\n",
       "      <td>...</td>\n",
       "    </tr>\n",
       "    <tr>\n",
       "      <th>153</th>\n",
       "      <td>Florianópolis</td>\n",
       "      <td>SBJA</td>\n",
       "      <td>16</td>\n",
       "      <td>166.752</td>\n",
       "      <td>7263.61</td>\n",
       "      <td>22.7934</td>\n",
       "      <td>0.188849</td>\n",
       "      <td>16.0863</td>\n",
       "      <td>0.0537425</td>\n",
       "      <td>6.6534</td>\n",
       "      <td>1</td>\n",
       "    </tr>\n",
       "    <tr>\n",
       "      <th>154</th>\n",
       "      <td>Florianópolis</td>\n",
       "      <td>SBJA</td>\n",
       "      <td>4</td>\n",
       "      <td>166.752</td>\n",
       "      <td>7263.61</td>\n",
       "      <td>22.7934</td>\n",
       "      <td>0.188849</td>\n",
       "      <td>16.0863</td>\n",
       "      <td>0.0537425</td>\n",
       "      <td>6.6534</td>\n",
       "      <td>1</td>\n",
       "    </tr>\n",
       "    <tr>\n",
       "      <th>155</th>\n",
       "      <td>Florianópolis</td>\n",
       "      <td>SBJA</td>\n",
       "      <td>16</td>\n",
       "      <td>166.752</td>\n",
       "      <td>7263.61</td>\n",
       "      <td>22.7934</td>\n",
       "      <td>0.188849</td>\n",
       "      <td>16.0863</td>\n",
       "      <td>0.0537425</td>\n",
       "      <td>6.6534</td>\n",
       "      <td>1</td>\n",
       "    </tr>\n",
       "    <tr>\n",
       "      <th>156</th>\n",
       "      <td>Florianópolis</td>\n",
       "      <td>SBJA</td>\n",
       "      <td>19</td>\n",
       "      <td>166.752</td>\n",
       "      <td>7263.61</td>\n",
       "      <td>22.7934</td>\n",
       "      <td>0.188849</td>\n",
       "      <td>16.0863</td>\n",
       "      <td>0.0537425</td>\n",
       "      <td>6.6534</td>\n",
       "      <td>1</td>\n",
       "    </tr>\n",
       "    <tr>\n",
       "      <th>157</th>\n",
       "      <td>Florianópolis</td>\n",
       "      <td>SBJA</td>\n",
       "      <td>10</td>\n",
       "      <td>166.752</td>\n",
       "      <td>7263.61</td>\n",
       "      <td>22.7934</td>\n",
       "      <td>0.188849</td>\n",
       "      <td>16.0863</td>\n",
       "      <td>0.0537425</td>\n",
       "      <td>6.6534</td>\n",
       "      <td>1</td>\n",
       "    </tr>\n",
       "  </tbody>\n",
       "</table>\n",
       "<p>12379 rows × 11 columns</p>\n",
       "</div>"
      ],
      "text/plain": [
       "          ORIGEM.x AERO.x  ... U_CONECTIVIDADE AERO_C\n",
       "0       Agrolândia   SBFL  ...         9.58386      0\n",
       "1       Agrolândia   SBFL  ...         9.58386      0\n",
       "2       Agrolândia   SBFL  ...         9.58386      0\n",
       "3       Agrolândia   SBFL  ...         9.58386      0\n",
       "4       Agrolândia   SBFL  ...         9.58386      0\n",
       "..             ...    ...  ...             ...    ...\n",
       "153  Florianópolis   SBJA  ...          6.6534      1\n",
       "154  Florianópolis   SBJA  ...          6.6534      1\n",
       "155  Florianópolis   SBJA  ...          6.6534      1\n",
       "156  Florianópolis   SBJA  ...          6.6534      1\n",
       "157  Florianópolis   SBJA  ...          6.6534      1\n",
       "\n",
       "[12379 rows x 11 columns]"
      ]
     },
     "execution_count": 68,
     "metadata": {
      "tags": []
     },
     "output_type": "execute_result"
    }
   ],
   "source": [
    "final = final.append(x_res)\n",
    "final"
   ]
  },
  {
   "cell_type": "code",
   "execution_count": null,
   "metadata": {
    "colab": {
     "base_uri": "https://localhost:8080/",
     "height": 419
    },
    "id": "1_ETig_LVikY",
    "outputId": "63e0d60b-f04c-4f68-c750-75017494067c"
   },
   "outputs": [
    {
     "data": {
      "text/html": [
       "<div>\n",
       "<style scoped>\n",
       "    .dataframe tbody tr th:only-of-type {\n",
       "        vertical-align: middle;\n",
       "    }\n",
       "\n",
       "    .dataframe tbody tr th {\n",
       "        vertical-align: top;\n",
       "    }\n",
       "\n",
       "    .dataframe thead th {\n",
       "        text-align: right;\n",
       "    }\n",
       "</style>\n",
       "<table border=\"1\" class=\"dataframe\">\n",
       "  <thead>\n",
       "    <tr style=\"text-align: right;\">\n",
       "      <th></th>\n",
       "      <th>ORIGEM.x</th>\n",
       "      <th>AERO.x</th>\n",
       "      <th>quantidadeviagem</th>\n",
       "      <th>DISTANCIA</th>\n",
       "      <th>TEMPO</th>\n",
       "      <th>UTILIDADE</th>\n",
       "      <th>ATRATIVIDADE</th>\n",
       "      <th>U_TARIFA</th>\n",
       "      <th>U_PONTUALIDADE</th>\n",
       "      <th>U_CONECTIVIDADE</th>\n",
       "      <th>AERO_C</th>\n",
       "    </tr>\n",
       "  </thead>\n",
       "  <tbody>\n",
       "    <tr>\n",
       "      <th>0</th>\n",
       "      <td>Agrolândia</td>\n",
       "      <td>SBFL</td>\n",
       "      <td>30</td>\n",
       "      <td>241.013</td>\n",
       "      <td>11909.6</td>\n",
       "      <td>11.4512</td>\n",
       "      <td>0.409435</td>\n",
       "      <td>1.77946</td>\n",
       "      <td>0.0878404</td>\n",
       "      <td>9.58386</td>\n",
       "      <td>0</td>\n",
       "    </tr>\n",
       "    <tr>\n",
       "      <th>1</th>\n",
       "      <td>Agrolândia</td>\n",
       "      <td>SBFL</td>\n",
       "      <td>29</td>\n",
       "      <td>241.013</td>\n",
       "      <td>11909.6</td>\n",
       "      <td>11.4512</td>\n",
       "      <td>0.409435</td>\n",
       "      <td>1.77946</td>\n",
       "      <td>0.0878404</td>\n",
       "      <td>9.58386</td>\n",
       "      <td>0</td>\n",
       "    </tr>\n",
       "    <tr>\n",
       "      <th>2</th>\n",
       "      <td>Agrolândia</td>\n",
       "      <td>SBFL</td>\n",
       "      <td>30</td>\n",
       "      <td>241.013</td>\n",
       "      <td>11909.6</td>\n",
       "      <td>11.4512</td>\n",
       "      <td>0.409435</td>\n",
       "      <td>1.77946</td>\n",
       "      <td>0.0878404</td>\n",
       "      <td>9.58386</td>\n",
       "      <td>0</td>\n",
       "    </tr>\n",
       "    <tr>\n",
       "      <th>3</th>\n",
       "      <td>Agrolândia</td>\n",
       "      <td>SBFL</td>\n",
       "      <td>29</td>\n",
       "      <td>241.013</td>\n",
       "      <td>11909.6</td>\n",
       "      <td>11.4512</td>\n",
       "      <td>0.409435</td>\n",
       "      <td>1.77946</td>\n",
       "      <td>0.0878404</td>\n",
       "      <td>9.58386</td>\n",
       "      <td>0</td>\n",
       "    </tr>\n",
       "    <tr>\n",
       "      <th>4</th>\n",
       "      <td>Agrolândia</td>\n",
       "      <td>SBFL</td>\n",
       "      <td>30</td>\n",
       "      <td>241.013</td>\n",
       "      <td>11909.6</td>\n",
       "      <td>11.4512</td>\n",
       "      <td>0.409435</td>\n",
       "      <td>1.77946</td>\n",
       "      <td>0.0878404</td>\n",
       "      <td>9.58386</td>\n",
       "      <td>0</td>\n",
       "    </tr>\n",
       "    <tr>\n",
       "      <th>...</th>\n",
       "      <td>...</td>\n",
       "      <td>...</td>\n",
       "      <td>...</td>\n",
       "      <td>...</td>\n",
       "      <td>...</td>\n",
       "      <td>...</td>\n",
       "      <td>...</td>\n",
       "      <td>...</td>\n",
       "      <td>...</td>\n",
       "      <td>...</td>\n",
       "      <td>...</td>\n",
       "    </tr>\n",
       "    <tr>\n",
       "      <th>12374</th>\n",
       "      <td>Florianópolis</td>\n",
       "      <td>SBJA</td>\n",
       "      <td>16</td>\n",
       "      <td>166.752</td>\n",
       "      <td>7263.61</td>\n",
       "      <td>22.7934</td>\n",
       "      <td>0.188849</td>\n",
       "      <td>16.0863</td>\n",
       "      <td>0.0537425</td>\n",
       "      <td>6.6534</td>\n",
       "      <td>1</td>\n",
       "    </tr>\n",
       "    <tr>\n",
       "      <th>12375</th>\n",
       "      <td>Florianópolis</td>\n",
       "      <td>SBJA</td>\n",
       "      <td>4</td>\n",
       "      <td>166.752</td>\n",
       "      <td>7263.61</td>\n",
       "      <td>22.7934</td>\n",
       "      <td>0.188849</td>\n",
       "      <td>16.0863</td>\n",
       "      <td>0.0537425</td>\n",
       "      <td>6.6534</td>\n",
       "      <td>1</td>\n",
       "    </tr>\n",
       "    <tr>\n",
       "      <th>12376</th>\n",
       "      <td>Florianópolis</td>\n",
       "      <td>SBJA</td>\n",
       "      <td>16</td>\n",
       "      <td>166.752</td>\n",
       "      <td>7263.61</td>\n",
       "      <td>22.7934</td>\n",
       "      <td>0.188849</td>\n",
       "      <td>16.0863</td>\n",
       "      <td>0.0537425</td>\n",
       "      <td>6.6534</td>\n",
       "      <td>1</td>\n",
       "    </tr>\n",
       "    <tr>\n",
       "      <th>12377</th>\n",
       "      <td>Florianópolis</td>\n",
       "      <td>SBJA</td>\n",
       "      <td>19</td>\n",
       "      <td>166.752</td>\n",
       "      <td>7263.61</td>\n",
       "      <td>22.7934</td>\n",
       "      <td>0.188849</td>\n",
       "      <td>16.0863</td>\n",
       "      <td>0.0537425</td>\n",
       "      <td>6.6534</td>\n",
       "      <td>1</td>\n",
       "    </tr>\n",
       "    <tr>\n",
       "      <th>12378</th>\n",
       "      <td>Florianópolis</td>\n",
       "      <td>SBJA</td>\n",
       "      <td>10</td>\n",
       "      <td>166.752</td>\n",
       "      <td>7263.61</td>\n",
       "      <td>22.7934</td>\n",
       "      <td>0.188849</td>\n",
       "      <td>16.0863</td>\n",
       "      <td>0.0537425</td>\n",
       "      <td>6.6534</td>\n",
       "      <td>1</td>\n",
       "    </tr>\n",
       "  </tbody>\n",
       "</table>\n",
       "<p>12379 rows × 11 columns</p>\n",
       "</div>"
      ],
      "text/plain": [
       "            ORIGEM.x AERO.x  ... U_CONECTIVIDADE AERO_C\n",
       "0         Agrolândia   SBFL  ...         9.58386      0\n",
       "1         Agrolândia   SBFL  ...         9.58386      0\n",
       "2         Agrolândia   SBFL  ...         9.58386      0\n",
       "3         Agrolândia   SBFL  ...         9.58386      0\n",
       "4         Agrolândia   SBFL  ...         9.58386      0\n",
       "...              ...    ...  ...             ...    ...\n",
       "12374  Florianópolis   SBJA  ...          6.6534      1\n",
       "12375  Florianópolis   SBJA  ...          6.6534      1\n",
       "12376  Florianópolis   SBJA  ...          6.6534      1\n",
       "12377  Florianópolis   SBJA  ...          6.6534      1\n",
       "12378  Florianópolis   SBJA  ...          6.6534      1\n",
       "\n",
       "[12379 rows x 11 columns]"
      ]
     },
     "execution_count": 69,
     "metadata": {
      "tags": []
     },
     "output_type": "execute_result"
    }
   ],
   "source": [
    "final.reset_index(drop=True, inplace=True)\n",
    "final"
   ]
  },
  {
   "cell_type": "code",
   "execution_count": null,
   "metadata": {
    "colab": {
     "base_uri": "https://localhost:8080/",
     "height": 419
    },
    "id": "0i9pjJ0lfUcx",
    "outputId": "cfe43f80-6500-47d4-9588-b0dba9468c14"
   },
   "outputs": [
    {
     "data": {
      "text/html": [
       "<div>\n",
       "<style scoped>\n",
       "    .dataframe tbody tr th:only-of-type {\n",
       "        vertical-align: middle;\n",
       "    }\n",
       "\n",
       "    .dataframe tbody tr th {\n",
       "        vertical-align: top;\n",
       "    }\n",
       "\n",
       "    .dataframe thead th {\n",
       "        text-align: right;\n",
       "    }\n",
       "</style>\n",
       "<table border=\"1\" class=\"dataframe\">\n",
       "  <thead>\n",
       "    <tr style=\"text-align: right;\">\n",
       "      <th></th>\n",
       "      <th>ATRATIVIDADE</th>\n",
       "      <th>AERO_C</th>\n",
       "      <th>quantidadeviagem</th>\n",
       "    </tr>\n",
       "  </thead>\n",
       "  <tbody>\n",
       "    <tr>\n",
       "      <th>0</th>\n",
       "      <td>0.032188</td>\n",
       "      <td>0</td>\n",
       "      <td>455</td>\n",
       "    </tr>\n",
       "    <tr>\n",
       "      <th>1</th>\n",
       "      <td>0.059507</td>\n",
       "      <td>0</td>\n",
       "      <td>922</td>\n",
       "    </tr>\n",
       "    <tr>\n",
       "      <th>2</th>\n",
       "      <td>0.068744</td>\n",
       "      <td>0</td>\n",
       "      <td>2349</td>\n",
       "    </tr>\n",
       "    <tr>\n",
       "      <th>3</th>\n",
       "      <td>0.079743</td>\n",
       "      <td>0</td>\n",
       "      <td>15</td>\n",
       "    </tr>\n",
       "    <tr>\n",
       "      <th>4</th>\n",
       "      <td>0.092539</td>\n",
       "      <td>0</td>\n",
       "      <td>3396</td>\n",
       "    </tr>\n",
       "    <tr>\n",
       "      <th>...</th>\n",
       "      <td>...</td>\n",
       "      <td>...</td>\n",
       "      <td>...</td>\n",
       "    </tr>\n",
       "    <tr>\n",
       "      <th>285</th>\n",
       "      <td>0.902249</td>\n",
       "      <td>1</td>\n",
       "      <td>1179</td>\n",
       "    </tr>\n",
       "    <tr>\n",
       "      <th>286</th>\n",
       "      <td>0.907461</td>\n",
       "      <td>1</td>\n",
       "      <td>2593</td>\n",
       "    </tr>\n",
       "    <tr>\n",
       "      <th>287</th>\n",
       "      <td>0.931256</td>\n",
       "      <td>1</td>\n",
       "      <td>2760</td>\n",
       "    </tr>\n",
       "    <tr>\n",
       "      <th>288</th>\n",
       "      <td>0.940493</td>\n",
       "      <td>1</td>\n",
       "      <td>861</td>\n",
       "    </tr>\n",
       "    <tr>\n",
       "      <th>289</th>\n",
       "      <td>0.967812</td>\n",
       "      <td>1</td>\n",
       "      <td>662</td>\n",
       "    </tr>\n",
       "  </tbody>\n",
       "</table>\n",
       "<p>290 rows × 3 columns</p>\n",
       "</div>"
      ],
      "text/plain": [
       "     ATRATIVIDADE  AERO_C  quantidadeviagem\n",
       "0        0.032188       0               455\n",
       "1        0.059507       0               922\n",
       "2        0.068744       0              2349\n",
       "3        0.079743       0                15\n",
       "4        0.092539       0              3396\n",
       "..            ...     ...               ...\n",
       "285      0.902249       1              1179\n",
       "286      0.907461       1              2593\n",
       "287      0.931256       1              2760\n",
       "288      0.940493       1               861\n",
       "289      0.967812       1               662\n",
       "\n",
       "[290 rows x 3 columns]"
      ]
     },
     "execution_count": 70,
     "metadata": {
      "tags": []
     },
     "output_type": "execute_result"
    }
   ],
   "source": [
    "r = final[[\"AERO_C\",\"quantidadeviagem\", \"ATRATIVIDADE\"]]\n",
    "r = r.groupby(['ATRATIVIDADE', 'AERO_C']).sum()\n",
    "r.reset_index(drop=False, inplace=True)\n",
    "r"
   ]
  },
  {
   "cell_type": "code",
   "execution_count": null,
   "metadata": {
    "colab": {
     "base_uri": "https://localhost:8080/"
    },
    "id": "9J0hvL3iTGbI",
    "outputId": "3d85ef30-aa7b-479b-cfe5-101efdd13ace"
   },
   "outputs": [
    {
     "name": "stdout",
     "output_type": "stream",
     "text": [
      "Optimization terminated successfully.\n",
      "         Current function value: 0.293909\n",
      "         Iterations 8\n"
     ]
    }
   ],
   "source": [
    "w = r[\"quantidadeviagem\"]\n",
    "function_formula = 'AERO_C ~ ATRATIVIDADE'\n",
    "reg = smf.logit(formula=function_formula, data=r, freq_weights=w)\n",
    "reg = reg.fit()"
   ]
  },
  {
   "cell_type": "code",
   "execution_count": null,
   "metadata": {
    "colab": {
     "base_uri": "https://localhost:8080/"
    },
    "id": "TFQgeac2TGbJ",
    "outputId": "e966b5aa-d9f0-4934-9a4c-acf2d5f93105"
   },
   "outputs": [
    {
     "name": "stdout",
     "output_type": "stream",
     "text": [
      "                           Logit Regression Results                           \n",
      "==============================================================================\n",
      "Dep. Variable:                 AERO_C   No. Observations:                  290\n",
      "Model:                          Logit   Df Residuals:                      288\n",
      "Method:                           MLE   Df Model:                            1\n",
      "Date:                Sun, 01 Aug 2021   Pseudo R-squ.:                  0.5666\n",
      "Time:                        20:00:28   Log-Likelihood:                -85.234\n",
      "converged:                       True   LL-Null:                       -196.68\n",
      "Covariance Type:            nonrobust   LLR p-value:                 2.114e-50\n",
      "================================================================================\n",
      "                   coef    std err          z      P>|z|      [0.025      0.975]\n",
      "--------------------------------------------------------------------------------\n",
      "Intercept       -7.4318      0.818     -9.080      0.000      -9.036      -5.828\n",
      "ATRATIVIDADE    13.3396      1.507      8.851      0.000      10.386      16.293\n",
      "================================================================================\n"
     ]
    }
   ],
   "source": [
    "print(reg.summary())"
   ]
  },
  {
   "cell_type": "code",
   "execution_count": null,
   "metadata": {
    "colab": {
     "base_uri": "https://localhost:8080/",
     "height": 311
    },
    "id": "4aAFNgczTGbJ",
    "outputId": "5a06032e-9a71-4193-8896-e9dd9f218782"
   },
   "outputs": [
    {
     "data": {
      "image/png": "[encoded data removed]",
      "text/plain": [
       "<Figure size 432x288 with 2 Axes>"
      ]
     },
     "metadata": {
      "needs_background": "light",
      "tags": []
     },
     "output_type": "display_data"
    }
   ],
   "source": [
    "class_names = ['SBJA', 'SBFL']\n",
    "y_pred = reg.predict(r)\n",
    "y_pred = [1 if pred >= .50 else 0 for pred in y_pred]\n",
    "y = r[\"AERO_C\"]\n",
    "cnf_matrix = confusion_matrix(y, y_pred, labels=[1, 0])\n",
    "plot_confusion_matrix(cnf_matrix, classes=class_names,\n",
    "                     title='Confusion Matrix - C=50%',normalize=True)"
   ]
  },
  {
   "cell_type": "code",
   "execution_count": null,
   "metadata": {
    "colab": {
     "base_uri": "https://localhost:8080/",
     "height": 450
    },
    "id": "OgD3NHMqhcG7",
    "outputId": "ce4f3296-fddf-47ea-d4a6-e8105238f319"
   },
   "outputs": [
    {
     "data": {
      "text/html": [
       "<div>\n",
       "<style scoped>\n",
       "    .dataframe tbody tr th:only-of-type {\n",
       "        vertical-align: middle;\n",
       "    }\n",
       "\n",
       "    .dataframe tbody tr th {\n",
       "        vertical-align: top;\n",
       "    }\n",
       "\n",
       "    .dataframe thead th {\n",
       "        text-align: right;\n",
       "    }\n",
       "</style>\n",
       "<table border=\"1\" class=\"dataframe\">\n",
       "  <thead>\n",
       "    <tr style=\"text-align: right;\">\n",
       "      <th></th>\n",
       "      <th>AERO.x</th>\n",
       "      <th>ATRATIVIDADE</th>\n",
       "      <th>AERO_C</th>\n",
       "      <th>quantidadeviagem</th>\n",
       "      <th>prob</th>\n",
       "    </tr>\n",
       "    <tr>\n",
       "      <th>ORIGEM.x</th>\n",
       "      <th></th>\n",
       "      <th></th>\n",
       "      <th></th>\n",
       "      <th></th>\n",
       "      <th></th>\n",
       "    </tr>\n",
       "  </thead>\n",
       "  <tbody>\n",
       "    <tr>\n",
       "      <th>Agrolândia</th>\n",
       "      <td>SBFL</td>\n",
       "      <td>0.409435</td>\n",
       "      <td>0</td>\n",
       "      <td>226</td>\n",
       "      <td>0.122375</td>\n",
       "    </tr>\n",
       "    <tr>\n",
       "      <th>Alfredo Wagner</th>\n",
       "      <td>SBFL</td>\n",
       "      <td>0.473263</td>\n",
       "      <td>0</td>\n",
       "      <td>298</td>\n",
       "      <td>0.246255</td>\n",
       "    </tr>\n",
       "    <tr>\n",
       "      <th>Alfredo Wagner</th>\n",
       "      <td>SBJA</td>\n",
       "      <td>0.526737</td>\n",
       "      <td>1</td>\n",
       "      <td>16</td>\n",
       "      <td>0.400023</td>\n",
       "    </tr>\n",
       "    <tr>\n",
       "      <th>Alvorada</th>\n",
       "      <td>SBJA</td>\n",
       "      <td>0.753302</td>\n",
       "      <td>1</td>\n",
       "      <td>163</td>\n",
       "      <td>0.931942</td>\n",
       "    </tr>\n",
       "    <tr>\n",
       "      <th>Angelina</th>\n",
       "      <td>SBFL</td>\n",
       "      <td>0.508555</td>\n",
       "      <td>0</td>\n",
       "      <td>124</td>\n",
       "      <td>0.343461</td>\n",
       "    </tr>\n",
       "    <tr>\n",
       "      <th>...</th>\n",
       "      <td>...</td>\n",
       "      <td>...</td>\n",
       "      <td>...</td>\n",
       "      <td>...</td>\n",
       "      <td>...</td>\n",
       "    </tr>\n",
       "    <tr>\n",
       "      <th>Vidal Ramos</th>\n",
       "      <td>SBFL</td>\n",
       "      <td>0.433519</td>\n",
       "      <td>0</td>\n",
       "      <td>51</td>\n",
       "      <td>0.161263</td>\n",
       "    </tr>\n",
       "    <tr>\n",
       "      <th>Videira</th>\n",
       "      <td>SBFL</td>\n",
       "      <td>0.324939</td>\n",
       "      <td>0</td>\n",
       "      <td>256</td>\n",
       "      <td>0.043220</td>\n",
       "    </tr>\n",
       "    <tr>\n",
       "      <th>Xangri-Lá</th>\n",
       "      <td>SBFL</td>\n",
       "      <td>0.210126</td>\n",
       "      <td>0</td>\n",
       "      <td>26</td>\n",
       "      <td>0.009672</td>\n",
       "    </tr>\n",
       "    <tr>\n",
       "      <th>Xangri-Lá</th>\n",
       "      <td>SBJA</td>\n",
       "      <td>0.789874</td>\n",
       "      <td>1</td>\n",
       "      <td>50</td>\n",
       "      <td>0.957089</td>\n",
       "    </tr>\n",
       "    <tr>\n",
       "      <th>Águas Mornas</th>\n",
       "      <td>SBFL</td>\n",
       "      <td>0.580019</td>\n",
       "      <td>0</td>\n",
       "      <td>741</td>\n",
       "      <td>0.575759</td>\n",
       "    </tr>\n",
       "  </tbody>\n",
       "</table>\n",
       "<p>290 rows × 5 columns</p>\n",
       "</div>"
      ],
      "text/plain": [
       "               AERO.x  ATRATIVIDADE  AERO_C  quantidadeviagem      prob\n",
       "ORIGEM.x                                                               \n",
       "Agrolândia       SBFL      0.409435       0               226  0.122375\n",
       "Alfredo Wagner   SBFL      0.473263       0               298  0.246255\n",
       "Alfredo Wagner   SBJA      0.526737       1                16  0.400023\n",
       "Alvorada         SBJA      0.753302       1               163  0.931942\n",
       "Angelina         SBFL      0.508555       0               124  0.343461\n",
       "...               ...           ...     ...               ...       ...\n",
       "Vidal Ramos      SBFL      0.433519       0                51  0.161263\n",
       "Videira          SBFL      0.324939       0               256  0.043220\n",
       "Xangri-Lá        SBFL      0.210126       0                26  0.009672\n",
       "Xangri-Lá        SBJA      0.789874       1                50  0.957089\n",
       "Águas Mornas     SBFL      0.580019       0               741  0.575759\n",
       "\n",
       "[290 rows x 5 columns]"
      ]
     },
     "execution_count": 74,
     "metadata": {
      "tags": []
     },
     "output_type": "execute_result"
    }
   ],
   "source": [
    "grupo = final[[\"ORIGEM.x\",\t\"AERO.x\",\t\"quantidadeviagem\",\t\"ATRATIVIDADE\",\t\"AERO_C\"]]\n",
    "grupo = grupo.groupby([\"ORIGEM.x\",\"AERO.x\", \"ATRATIVIDADE\", \"AERO_C\"]).sum()\n",
    "grupo.reset_index(drop=False, inplace=True)\n",
    "grupo[\"prob\"] = pd.DataFrame(reg.predict(grupo))\n",
    "grupo = grupo.set_index(\"ORIGEM.x\")\n",
    "\n",
    "#soma = pd.DataFrame(grupo.groupby([\"ORIGEM.x\"])[\"quantidadeviagem\"].sum())\n",
    "#soma.rename(columns={'quantidadeviagem':'totalviagem'}, inplace=True)\n",
    "#grupo = pd.merge(grupo, soma, left_index=True, right_index=True)\n",
    "\n",
    "#soma_prob = pd.DataFrame(grupo.groupby([\"ORIGEM.x\"])[\"prob\"].sum())\n",
    "#grupo = pd.merge(grupo, soma_prob, left_index=True, right_index=True)\n",
    "\n",
    "#grupo[\"prob\"] = grupo[\"prob_x\"]/grupo[\"prob_y\"]\n",
    "#grupo[\"modelo\"] = grupo[\"prob\"]*grupo[\"quantidadeviagem\"]\n",
    "#grupo=grupo[[\"AERO.x\",\"quantidadeviagem\" , \"modelo\"]]\n",
    "#grupo[\"modelo\"] = grupo[\"modelo\"].astype(int)\n",
    "grupo"
   ]
  },
  {
   "cell_type": "code",
   "execution_count": null,
   "metadata": {
    "colab": {
     "base_uri": "https://localhost:8080/",
     "height": 17
    },
    "id": "Gwr7wx41NN_e",
    "outputId": "134e0054-f332-4737-f33e-b12c86001579"
   },
   "outputs": [
    {
     "data": {
      "application/javascript": [
       "\n",
       "    async function download(id, filename, size) {\n",
       "      if (!google.colab.kernel.accessAllowed) {\n",
       "        return;\n",
       "      }\n",
       "      const div = document.createElement('div');\n",
       "      const label = document.createElement('label');\n",
       "      label.textContent = `Downloading \"${filename}\": `;\n",
       "      div.appendChild(label);\n",
       "      const progress = document.createElement('progress');\n",
       "      progress.max = size;\n",
       "      div.appendChild(progress);\n",
       "      document.body.appendChild(div);\n",
       "\n",
       "      const buffers = [];\n",
       "      let downloaded = 0;\n",
       "\n",
       "      const channel = await google.colab.kernel.comms.open(id);\n",
       "      // Send a message to notify the kernel that we're ready.\n",
       "      channel.send({})\n",
       "\n",
       "      for await (const message of channel.messages) {\n",
       "        // Send a message to notify the kernel that we're ready.\n",
       "        channel.send({})\n",
       "        if (message.buffers) {\n",
       "          for (const buffer of message.buffers) {\n",
       "            buffers.push(buffer);\n",
       "            downloaded += buffer.byteLength;\n",
       "            progress.value = downloaded;\n",
       "          }\n",
       "        }\n",
       "      }\n",
       "      const blob = new Blob(buffers, {type: 'application/binary'});\n",
       "      const a = document.createElement('a');\n",
       "      a.href = window.URL.createObjectURL(blob);\n",
       "      a.download = filename;\n",
       "      div.appendChild(a);\n",
       "      a.click();\n",
       "      div.remove();\n",
       "    }\n",
       "  "
      ],
      "text/plain": [
       "<IPython.core.display.Javascript object>"
      ]
     },
     "metadata": {
      "tags": []
     },
     "output_type": "display_data"
    },
    {
     "data": {
      "application/javascript": [
       "download(\"download_7bf1570c-d078-4fa8-a656-8c316921448f\", \"modelo_resultados_novo.xlsx\", 21918)"
      ],
      "text/plain": [
       "<IPython.core.display.Javascript object>"
      ]
     },
     "metadata": {
      "tags": []
     },
     "output_type": "display_data"
    }
   ],
   "source": [
    "grupo = grupo.reset_index(drop=False)\n",
    "from google.colab import files\n",
    "grupo.to_excel(r'modelo_resultados_novo.xlsx', header=True)\n",
    "files.download(\"/content/modelo_resultados_novo.xlsx\")"
   ]
  },
  {
   "cell_type": "markdown",
   "metadata": {
    "id": "3qQKpDTNTOm2"
   },
   "source": [
    "##Projeção"
   ]
  },
  {
   "cell_type": "code",
   "execution_count": 283,
   "metadata": {
    "id": "eeSHXPMYTVBQ"
   },
   "outputs": [],
   "source": [
    "proj=pd.read_excel('/content/BD_logit_PROJ.xlsx')"
   ]
  },
  {
   "cell_type": "code",
   "execution_count": 284,
   "metadata": {
    "id": "-AIW9gESWy_P"
   },
   "outputs": [],
   "source": [
    "def função(x):\n",
    "           utilidade = x  \n",
    "           base = proj.iloc[:,1:5]\n",
    "           projeção = pd.merge(base, utilidade, left_index=True, right_index=True)\n",
    "           projeção.iloc[:,4] = projeção.iloc[:,4].mul((1/projeção['TEMPO']),axis=0)\n",
    "           projeção = projeção.set_index([\"ORIGEM.x\"])\n",
    "           quantidaddeviagem = pd.DataFrame(projeção.groupby([\"ORIGEM.x\", \"AERO.x\"])[\"quantidadeviagem\"].sum())\n",
    "           outros = pd.DataFrame(projeção.groupby([\"ORIGEM.x\", \"AERO.x\"]).mean())\n",
    "           projeção = pd.merge(outros, quantidaddeviagem, left_index=True, right_index=True)\n",
    "           projeção = projeção.drop(columns=['quantidadeviagem_x'])\n",
    "           numerador = projeção.groupby([\"ORIGEM.x\"]).sum()\n",
    "           numerador = pd.DataFrame(numerador.iloc[:,1])\n",
    "           projeção = pd.merge(projeção, numerador, left_index=True, right_index=True)\n",
    "           projeção[\"ATRATIVIDADE\"] = projeção.iloc[:,1] / projeção.iloc[:,3]  \n",
    "           projeção = projeção.iloc[:,[2,4]]\n",
    "           projeção[\"projeção\"] = reg_log.predict(projeção[\"ATRATIVIDADE\"]) * projeção[\"quantidadeviagem_y\"]\n",
    "           projeção = pd.DataFrame(projeção.groupby([\"AERO.x\"])[\"projeção\"].sum())\n",
    "           projeção[\"soma\"] = projeção['projeção'].sum()\n",
    "           projeção[\"projeção\"] = projeção['projeção'] / projeção[\"soma\"]\n",
    "           projeção = pd.DataFrame(projeção.iloc[:,0])\n",
    "           return projeção"
   ]
  },
  {
   "cell_type": "code",
   "execution_count": 285,
   "metadata": {
    "id": "ZMpewxQwieFX"
   },
   "outputs": [],
   "source": [
    "x=proj.iloc[:,5:]"
   ]
  },
  {
   "cell_type": "code",
   "execution_count": 286,
   "metadata": {
    "id": "WWtLw2eyrCCk"
   },
   "outputs": [],
   "source": [
    "lista=[]\n",
    "for column in x:\n",
    "  aux=função(x[column])\n",
    "  lista.append(aux)\n",
    "  \n",
    "output=pd.concat(lista,axis=1,ignore_index=True)\n",
    "output.columns = x.columns\n",
    "output = output.T\n",
    "output['SBFL_1'] = output[\"SBFL\"].shift(1)\n",
    "output['SBFL_%'] = (output[\"SBFL\"]/output[\"SBFL_1\"]-1)\n",
    "output['SBJA_1'] = output[\"SBJA\"].shift(1)\n",
    "output['SBJA_%'] = (output[\"SBJA\"]/output[\"SBJA_1\"]-1)\n",
    "output = output.iloc[:,[0,1,3,5]]"
   ]
  },
  {
   "cell_type": "code",
   "execution_count": 287,
   "metadata": {
    "colab": {
     "base_uri": "https://localhost:8080/",
     "height": 1000
    },
    "id": "49VFysMN7sEq",
    "outputId": "1da77c88-e5fa-4fe6-ceaa-1daf5c3b3acb"
   },
   "outputs": [
    {
     "data": {
      "text/html": [
       "<div>\n",
       "<style scoped>\n",
       "    .dataframe tbody tr th:only-of-type {\n",
       "        vertical-align: middle;\n",
       "    }\n",
       "\n",
       "    .dataframe tbody tr th {\n",
       "        vertical-align: top;\n",
       "    }\n",
       "\n",
       "    .dataframe thead th {\n",
       "        text-align: right;\n",
       "    }\n",
       "</style>\n",
       "<table border=\"1\" class=\"dataframe\">\n",
       "  <thead>\n",
       "    <tr style=\"text-align: right;\">\n",
       "      <th>AERO.x</th>\n",
       "      <th>SBFL</th>\n",
       "      <th>SBJA</th>\n",
       "      <th>SBFL_%</th>\n",
       "      <th>SBJA_%</th>\n",
       "    </tr>\n",
       "  </thead>\n",
       "  <tbody>\n",
       "    <tr>\n",
       "      <th>2017</th>\n",
       "      <td>0.932733</td>\n",
       "      <td>0.067267</td>\n",
       "      <td>NaN</td>\n",
       "      <td>NaN</td>\n",
       "    </tr>\n",
       "    <tr>\n",
       "      <th>2018</th>\n",
       "      <td>0.932836</td>\n",
       "      <td>0.067164</td>\n",
       "      <td>0.000110</td>\n",
       "      <td>-0.001530</td>\n",
       "    </tr>\n",
       "    <tr>\n",
       "      <th>2019</th>\n",
       "      <td>0.932793</td>\n",
       "      <td>0.067207</td>\n",
       "      <td>-0.000045</td>\n",
       "      <td>0.000630</td>\n",
       "    </tr>\n",
       "    <tr>\n",
       "      <th>2020</th>\n",
       "      <td>0.932339</td>\n",
       "      <td>0.067661</td>\n",
       "      <td>-0.000487</td>\n",
       "      <td>0.006761</td>\n",
       "    </tr>\n",
       "    <tr>\n",
       "      <th>2021</th>\n",
       "      <td>0.932796</td>\n",
       "      <td>0.067204</td>\n",
       "      <td>0.000490</td>\n",
       "      <td>-0.006753</td>\n",
       "    </tr>\n",
       "    <tr>\n",
       "      <th>2022</th>\n",
       "      <td>0.932815</td>\n",
       "      <td>0.067185</td>\n",
       "      <td>0.000020</td>\n",
       "      <td>-0.000277</td>\n",
       "    </tr>\n",
       "    <tr>\n",
       "      <th>2023</th>\n",
       "      <td>0.932805</td>\n",
       "      <td>0.067195</td>\n",
       "      <td>-0.000010</td>\n",
       "      <td>0.000143</td>\n",
       "    </tr>\n",
       "    <tr>\n",
       "      <th>2024</th>\n",
       "      <td>0.932801</td>\n",
       "      <td>0.067199</td>\n",
       "      <td>-0.000004</td>\n",
       "      <td>0.000058</td>\n",
       "    </tr>\n",
       "    <tr>\n",
       "      <th>2025</th>\n",
       "      <td>0.932795</td>\n",
       "      <td>0.067205</td>\n",
       "      <td>-0.000007</td>\n",
       "      <td>0.000092</td>\n",
       "    </tr>\n",
       "    <tr>\n",
       "      <th>2026</th>\n",
       "      <td>0.932792</td>\n",
       "      <td>0.067208</td>\n",
       "      <td>-0.000003</td>\n",
       "      <td>0.000047</td>\n",
       "    </tr>\n",
       "    <tr>\n",
       "      <th>2027</th>\n",
       "      <td>0.932788</td>\n",
       "      <td>0.067212</td>\n",
       "      <td>-0.000004</td>\n",
       "      <td>0.000054</td>\n",
       "    </tr>\n",
       "    <tr>\n",
       "      <th>2028</th>\n",
       "      <td>0.932782</td>\n",
       "      <td>0.067218</td>\n",
       "      <td>-0.000006</td>\n",
       "      <td>0.000084</td>\n",
       "    </tr>\n",
       "    <tr>\n",
       "      <th>2029</th>\n",
       "      <td>0.932776</td>\n",
       "      <td>0.067224</td>\n",
       "      <td>-0.000007</td>\n",
       "      <td>0.000099</td>\n",
       "    </tr>\n",
       "    <tr>\n",
       "      <th>2030</th>\n",
       "      <td>0.932770</td>\n",
       "      <td>0.067230</td>\n",
       "      <td>-0.000007</td>\n",
       "      <td>0.000091</td>\n",
       "    </tr>\n",
       "    <tr>\n",
       "      <th>2031</th>\n",
       "      <td>0.932763</td>\n",
       "      <td>0.067237</td>\n",
       "      <td>-0.000007</td>\n",
       "      <td>0.000102</td>\n",
       "    </tr>\n",
       "    <tr>\n",
       "      <th>2032</th>\n",
       "      <td>0.932755</td>\n",
       "      <td>0.067245</td>\n",
       "      <td>-0.000008</td>\n",
       "      <td>0.000110</td>\n",
       "    </tr>\n",
       "    <tr>\n",
       "      <th>2033</th>\n",
       "      <td>0.932749</td>\n",
       "      <td>0.067251</td>\n",
       "      <td>-0.000007</td>\n",
       "      <td>0.000096</td>\n",
       "    </tr>\n",
       "    <tr>\n",
       "      <th>2034</th>\n",
       "      <td>0.932742</td>\n",
       "      <td>0.067258</td>\n",
       "      <td>-0.000007</td>\n",
       "      <td>0.000098</td>\n",
       "    </tr>\n",
       "    <tr>\n",
       "      <th>2035</th>\n",
       "      <td>0.932735</td>\n",
       "      <td>0.067265</td>\n",
       "      <td>-0.000007</td>\n",
       "      <td>0.000103</td>\n",
       "    </tr>\n",
       "    <tr>\n",
       "      <th>2036</th>\n",
       "      <td>0.932624</td>\n",
       "      <td>0.067376</td>\n",
       "      <td>-0.000120</td>\n",
       "      <td>0.001665</td>\n",
       "    </tr>\n",
       "    <tr>\n",
       "      <th>2037</th>\n",
       "      <td>0.932615</td>\n",
       "      <td>0.067385</td>\n",
       "      <td>-0.000009</td>\n",
       "      <td>0.000122</td>\n",
       "    </tr>\n",
       "    <tr>\n",
       "      <th>2038</th>\n",
       "      <td>0.932607</td>\n",
       "      <td>0.067393</td>\n",
       "      <td>-0.000009</td>\n",
       "      <td>0.000125</td>\n",
       "    </tr>\n",
       "    <tr>\n",
       "      <th>2039</th>\n",
       "      <td>0.932598</td>\n",
       "      <td>0.067402</td>\n",
       "      <td>-0.000009</td>\n",
       "      <td>0.000125</td>\n",
       "    </tr>\n",
       "    <tr>\n",
       "      <th>2040</th>\n",
       "      <td>0.932590</td>\n",
       "      <td>0.067410</td>\n",
       "      <td>-0.000009</td>\n",
       "      <td>0.000124</td>\n",
       "    </tr>\n",
       "    <tr>\n",
       "      <th>2041</th>\n",
       "      <td>0.932581</td>\n",
       "      <td>0.067419</td>\n",
       "      <td>-0.000009</td>\n",
       "      <td>0.000128</td>\n",
       "    </tr>\n",
       "    <tr>\n",
       "      <th>2042</th>\n",
       "      <td>0.932573</td>\n",
       "      <td>0.067427</td>\n",
       "      <td>-0.000009</td>\n",
       "      <td>0.000129</td>\n",
       "    </tr>\n",
       "    <tr>\n",
       "      <th>2043</th>\n",
       "      <td>0.932564</td>\n",
       "      <td>0.067436</td>\n",
       "      <td>-0.000009</td>\n",
       "      <td>0.000131</td>\n",
       "    </tr>\n",
       "    <tr>\n",
       "      <th>2044</th>\n",
       "      <td>0.932555</td>\n",
       "      <td>0.067445</td>\n",
       "      <td>-0.000010</td>\n",
       "      <td>0.000133</td>\n",
       "    </tr>\n",
       "    <tr>\n",
       "      <th>2045</th>\n",
       "      <td>0.932546</td>\n",
       "      <td>0.067454</td>\n",
       "      <td>-0.000010</td>\n",
       "      <td>0.000134</td>\n",
       "    </tr>\n",
       "    <tr>\n",
       "      <th>2046</th>\n",
       "      <td>0.932537</td>\n",
       "      <td>0.067463</td>\n",
       "      <td>-0.000010</td>\n",
       "      <td>0.000136</td>\n",
       "    </tr>\n",
       "    <tr>\n",
       "      <th>2047</th>\n",
       "      <td>0.932528</td>\n",
       "      <td>0.067472</td>\n",
       "      <td>-0.000010</td>\n",
       "      <td>0.000137</td>\n",
       "    </tr>\n",
       "    <tr>\n",
       "      <th>2048</th>\n",
       "      <td>0.932518</td>\n",
       "      <td>0.067482</td>\n",
       "      <td>-0.000010</td>\n",
       "      <td>0.000139</td>\n",
       "    </tr>\n",
       "    <tr>\n",
       "      <th>2049</th>\n",
       "      <td>0.932509</td>\n",
       "      <td>0.067491</td>\n",
       "      <td>-0.000010</td>\n",
       "      <td>0.000140</td>\n",
       "    </tr>\n",
       "    <tr>\n",
       "      <th>2050</th>\n",
       "      <td>0.932499</td>\n",
       "      <td>0.067501</td>\n",
       "      <td>-0.000010</td>\n",
       "      <td>0.000141</td>\n",
       "    </tr>\n",
       "    <tr>\n",
       "      <th>2051</th>\n",
       "      <td>0.932489</td>\n",
       "      <td>0.067511</td>\n",
       "      <td>-0.000010</td>\n",
       "      <td>0.000145</td>\n",
       "    </tr>\n",
       "    <tr>\n",
       "      <th>2052</th>\n",
       "      <td>0.932480</td>\n",
       "      <td>0.067520</td>\n",
       "      <td>-0.000011</td>\n",
       "      <td>0.000145</td>\n",
       "    </tr>\n",
       "    <tr>\n",
       "      <th>2053</th>\n",
       "      <td>0.932470</td>\n",
       "      <td>0.067530</td>\n",
       "      <td>-0.000011</td>\n",
       "      <td>0.000146</td>\n",
       "    </tr>\n",
       "    <tr>\n",
       "      <th>2054</th>\n",
       "      <td>0.932460</td>\n",
       "      <td>0.067540</td>\n",
       "      <td>-0.000011</td>\n",
       "      <td>0.000146</td>\n",
       "    </tr>\n",
       "    <tr>\n",
       "      <th>2055</th>\n",
       "      <td>0.932450</td>\n",
       "      <td>0.067550</td>\n",
       "      <td>-0.000011</td>\n",
       "      <td>0.000147</td>\n",
       "    </tr>\n",
       "    <tr>\n",
       "      <th>2056</th>\n",
       "      <td>0.932440</td>\n",
       "      <td>0.067560</td>\n",
       "      <td>-0.000011</td>\n",
       "      <td>0.000147</td>\n",
       "    </tr>\n",
       "    <tr>\n",
       "      <th>2057</th>\n",
       "      <td>0.932430</td>\n",
       "      <td>0.067570</td>\n",
       "      <td>-0.000011</td>\n",
       "      <td>0.000147</td>\n",
       "    </tr>\n",
       "    <tr>\n",
       "      <th>2058</th>\n",
       "      <td>0.932420</td>\n",
       "      <td>0.067580</td>\n",
       "      <td>-0.000011</td>\n",
       "      <td>0.000148</td>\n",
       "    </tr>\n",
       "    <tr>\n",
       "      <th>2059</th>\n",
       "      <td>0.932410</td>\n",
       "      <td>0.067590</td>\n",
       "      <td>-0.000011</td>\n",
       "      <td>0.000148</td>\n",
       "    </tr>\n",
       "    <tr>\n",
       "      <th>2060</th>\n",
       "      <td>0.932400</td>\n",
       "      <td>0.067600</td>\n",
       "      <td>-0.000011</td>\n",
       "      <td>0.000148</td>\n",
       "    </tr>\n",
       "  </tbody>\n",
       "</table>\n",
       "</div>"
      ],
      "text/plain": [
       "AERO.x      SBFL      SBJA    SBFL_%    SBJA_%\n",
       "2017    0.932733  0.067267       NaN       NaN\n",
       "2018    0.932836  0.067164  0.000110 -0.001530\n",
       "2019    0.932793  0.067207 -0.000045  0.000630\n",
       "2020    0.932339  0.067661 -0.000487  0.006761\n",
       "2021    0.932796  0.067204  0.000490 -0.006753\n",
       "2022    0.932815  0.067185  0.000020 -0.000277\n",
       "2023    0.932805  0.067195 -0.000010  0.000143\n",
       "2024    0.932801  0.067199 -0.000004  0.000058\n",
       "2025    0.932795  0.067205 -0.000007  0.000092\n",
       "2026    0.932792  0.067208 -0.000003  0.000047\n",
       "2027    0.932788  0.067212 -0.000004  0.000054\n",
       "2028    0.932782  0.067218 -0.000006  0.000084\n",
       "2029    0.932776  0.067224 -0.000007  0.000099\n",
       "2030    0.932770  0.067230 -0.000007  0.000091\n",
       "2031    0.932763  0.067237 -0.000007  0.000102\n",
       "2032    0.932755  0.067245 -0.000008  0.000110\n",
       "2033    0.932749  0.067251 -0.000007  0.000096\n",
       "2034    0.932742  0.067258 -0.000007  0.000098\n",
       "2035    0.932735  0.067265 -0.000007  0.000103\n",
       "2036    0.932624  0.067376 -0.000120  0.001665\n",
       "2037    0.932615  0.067385 -0.000009  0.000122\n",
       "2038    0.932607  0.067393 -0.000009  0.000125\n",
       "2039    0.932598  0.067402 -0.000009  0.000125\n",
       "2040    0.932590  0.067410 -0.000009  0.000124\n",
       "2041    0.932581  0.067419 -0.000009  0.000128\n",
       "2042    0.932573  0.067427 -0.000009  0.000129\n",
       "2043    0.932564  0.067436 -0.000009  0.000131\n",
       "2044    0.932555  0.067445 -0.000010  0.000133\n",
       "2045    0.932546  0.067454 -0.000010  0.000134\n",
       "2046    0.932537  0.067463 -0.000010  0.000136\n",
       "2047    0.932528  0.067472 -0.000010  0.000137\n",
       "2048    0.932518  0.067482 -0.000010  0.000139\n",
       "2049    0.932509  0.067491 -0.000010  0.000140\n",
       "2050    0.932499  0.067501 -0.000010  0.000141\n",
       "2051    0.932489  0.067511 -0.000010  0.000145\n",
       "2052    0.932480  0.067520 -0.000011  0.000145\n",
       "2053    0.932470  0.067530 -0.000011  0.000146\n",
       "2054    0.932460  0.067540 -0.000011  0.000146\n",
       "2055    0.932450  0.067550 -0.000011  0.000147\n",
       "2056    0.932440  0.067560 -0.000011  0.000147\n",
       "2057    0.932430  0.067570 -0.000011  0.000147\n",
       "2058    0.932420  0.067580 -0.000011  0.000148\n",
       "2059    0.932410  0.067590 -0.000011  0.000148\n",
       "2060    0.932400  0.067600 -0.000011  0.000148"
      ]
     },
     "execution_count": 287,
     "metadata": {
      "tags": []
     },
     "output_type": "execute_result"
    }
   ],
   "source": [
    "output"
   ]
  },
  {
   "cell_type": "code",
   "execution_count": 288,
   "metadata": {
    "colab": {
     "base_uri": "https://localhost:8080/",
     "height": 193
    },
    "id": "NNRku7GD5lVF",
    "outputId": "c442412f-410e-43f1-d1ad-c05f72a33c83"
   },
   "outputs": [
    {
     "data": {
      "text/html": [
       "<div>\n",
       "<style scoped>\n",
       "    .dataframe tbody tr th:only-of-type {\n",
       "        vertical-align: middle;\n",
       "    }\n",
       "\n",
       "    .dataframe tbody tr th {\n",
       "        vertical-align: top;\n",
       "    }\n",
       "\n",
       "    .dataframe thead th {\n",
       "        text-align: right;\n",
       "    }\n",
       "</style>\n",
       "<table border=\"1\" class=\"dataframe\">\n",
       "  <thead>\n",
       "    <tr style=\"text-align: right;\">\n",
       "      <th></th>\n",
       "      <th>0</th>\n",
       "      <th>1</th>\n",
       "      <th>2</th>\n",
       "      <th>3</th>\n",
       "      <th>4</th>\n",
       "      <th>5</th>\n",
       "      <th>6</th>\n",
       "      <th>7</th>\n",
       "      <th>8</th>\n",
       "      <th>9</th>\n",
       "      <th>10</th>\n",
       "      <th>11</th>\n",
       "      <th>12</th>\n",
       "      <th>13</th>\n",
       "      <th>14</th>\n",
       "      <th>15</th>\n",
       "      <th>16</th>\n",
       "      <th>17</th>\n",
       "      <th>18</th>\n",
       "      <th>19</th>\n",
       "      <th>20</th>\n",
       "      <th>21</th>\n",
       "      <th>22</th>\n",
       "      <th>23</th>\n",
       "      <th>24</th>\n",
       "      <th>25</th>\n",
       "      <th>26</th>\n",
       "      <th>27</th>\n",
       "      <th>28</th>\n",
       "      <th>29</th>\n",
       "      <th>30</th>\n",
       "      <th>31</th>\n",
       "      <th>32</th>\n",
       "      <th>33</th>\n",
       "      <th>34</th>\n",
       "      <th>35</th>\n",
       "      <th>36</th>\n",
       "      <th>37</th>\n",
       "      <th>38</th>\n",
       "      <th>39</th>\n",
       "      <th>40</th>\n",
       "      <th>41</th>\n",
       "    </tr>\n",
       "    <tr>\n",
       "      <th>AERO.x</th>\n",
       "      <th></th>\n",
       "      <th></th>\n",
       "      <th></th>\n",
       "      <th></th>\n",
       "      <th></th>\n",
       "      <th></th>\n",
       "      <th></th>\n",
       "      <th></th>\n",
       "      <th></th>\n",
       "      <th></th>\n",
       "      <th></th>\n",
       "      <th></th>\n",
       "      <th></th>\n",
       "      <th></th>\n",
       "      <th></th>\n",
       "      <th></th>\n",
       "      <th></th>\n",
       "      <th></th>\n",
       "      <th></th>\n",
       "      <th></th>\n",
       "      <th></th>\n",
       "      <th></th>\n",
       "      <th></th>\n",
       "      <th></th>\n",
       "      <th></th>\n",
       "      <th></th>\n",
       "      <th></th>\n",
       "      <th></th>\n",
       "      <th></th>\n",
       "      <th></th>\n",
       "      <th></th>\n",
       "      <th></th>\n",
       "      <th></th>\n",
       "      <th></th>\n",
       "      <th></th>\n",
       "      <th></th>\n",
       "      <th></th>\n",
       "      <th></th>\n",
       "      <th></th>\n",
       "      <th></th>\n",
       "      <th></th>\n",
       "      <th></th>\n",
       "    </tr>\n",
       "  </thead>\n",
       "  <tbody>\n",
       "    <tr>\n",
       "      <th>index</th>\n",
       "      <td>2019</td>\n",
       "      <td>2020</td>\n",
       "      <td>2021</td>\n",
       "      <td>2022</td>\n",
       "      <td>2023</td>\n",
       "      <td>2024</td>\n",
       "      <td>2025</td>\n",
       "      <td>2026</td>\n",
       "      <td>2027</td>\n",
       "      <td>2028</td>\n",
       "      <td>2029</td>\n",
       "      <td>2030</td>\n",
       "      <td>2031</td>\n",
       "      <td>2032</td>\n",
       "      <td>2033</td>\n",
       "      <td>2034</td>\n",
       "      <td>2035</td>\n",
       "      <td>2036</td>\n",
       "      <td>2037</td>\n",
       "      <td>2038</td>\n",
       "      <td>2039</td>\n",
       "      <td>2040</td>\n",
       "      <td>2041</td>\n",
       "      <td>2042</td>\n",
       "      <td>2043</td>\n",
       "      <td>2044</td>\n",
       "      <td>2045</td>\n",
       "      <td>2046</td>\n",
       "      <td>2047</td>\n",
       "      <td>2048</td>\n",
       "      <td>2049</td>\n",
       "      <td>2050</td>\n",
       "      <td>2051</td>\n",
       "      <td>2052</td>\n",
       "      <td>2053</td>\n",
       "      <td>2054</td>\n",
       "      <td>2055</td>\n",
       "      <td>2056</td>\n",
       "      <td>2057</td>\n",
       "      <td>2058</td>\n",
       "      <td>2059</td>\n",
       "      <td>2060</td>\n",
       "    </tr>\n",
       "    <tr>\n",
       "      <th>SBFL_final</th>\n",
       "      <td>0.964242</td>\n",
       "      <td>0.963773</td>\n",
       "      <td>0.964245</td>\n",
       "      <td>0.964264</td>\n",
       "      <td>0.964254</td>\n",
       "      <td>0.96425</td>\n",
       "      <td>0.964244</td>\n",
       "      <td>0.964241</td>\n",
       "      <td>0.964237</td>\n",
       "      <td>0.964231</td>\n",
       "      <td>0.964224</td>\n",
       "      <td>0.964218</td>\n",
       "      <td>0.964211</td>\n",
       "      <td>0.964203</td>\n",
       "      <td>0.964197</td>\n",
       "      <td>0.96419</td>\n",
       "      <td>0.964183</td>\n",
       "      <td>0.964067</td>\n",
       "      <td>0.964058</td>\n",
       "      <td>0.96405</td>\n",
       "      <td>0.964041</td>\n",
       "      <td>0.964032</td>\n",
       "      <td>0.964023</td>\n",
       "      <td>0.964014</td>\n",
       "      <td>0.964005</td>\n",
       "      <td>0.963996</td>\n",
       "      <td>0.963987</td>\n",
       "      <td>0.963977</td>\n",
       "      <td>0.963968</td>\n",
       "      <td>0.963958</td>\n",
       "      <td>0.963948</td>\n",
       "      <td>0.963938</td>\n",
       "      <td>0.963928</td>\n",
       "      <td>0.963918</td>\n",
       "      <td>0.963908</td>\n",
       "      <td>0.963898</td>\n",
       "      <td>0.963887</td>\n",
       "      <td>0.963877</td>\n",
       "      <td>0.963867</td>\n",
       "      <td>0.963857</td>\n",
       "      <td>0.963846</td>\n",
       "      <td>0.963836</td>\n",
       "    </tr>\n",
       "    <tr>\n",
       "      <th>SBJA_final</th>\n",
       "      <td>0.0357576</td>\n",
       "      <td>0.0359993</td>\n",
       "      <td>0.0357562</td>\n",
       "      <td>0.0357463</td>\n",
       "      <td>0.0357514</td>\n",
       "      <td>0.0357535</td>\n",
       "      <td>0.0357568</td>\n",
       "      <td>0.0357585</td>\n",
       "      <td>0.0357604</td>\n",
       "      <td>0.0357634</td>\n",
       "      <td>0.0357669</td>\n",
       "      <td>0.0357702</td>\n",
       "      <td>0.0357738</td>\n",
       "      <td>0.0357778</td>\n",
       "      <td>0.0357812</td>\n",
       "      <td>0.0357847</td>\n",
       "      <td>0.0357884</td>\n",
       "      <td>0.035848</td>\n",
       "      <td>0.0358524</td>\n",
       "      <td>0.0358568</td>\n",
       "      <td>0.0358613</td>\n",
       "      <td>0.0358658</td>\n",
       "      <td>0.0358704</td>\n",
       "      <td>0.035875</td>\n",
       "      <td>0.0358797</td>\n",
       "      <td>0.0358844</td>\n",
       "      <td>0.0358892</td>\n",
       "      <td>0.0358941</td>\n",
       "      <td>0.035899</td>\n",
       "      <td>0.035904</td>\n",
       "      <td>0.035909</td>\n",
       "      <td>0.0359141</td>\n",
       "      <td>0.0359193</td>\n",
       "      <td>0.0359245</td>\n",
       "      <td>0.0359297</td>\n",
       "      <td>0.035935</td>\n",
       "      <td>0.0359403</td>\n",
       "      <td>0.0359456</td>\n",
       "      <td>0.0359509</td>\n",
       "      <td>0.0359562</td>\n",
       "      <td>0.0359615</td>\n",
       "      <td>0.0359669</td>\n",
       "    </tr>\n",
       "  </tbody>\n",
       "</table>\n",
       "</div>"
      ],
      "text/plain": [
       "                   0          1          2   ...         39         40         41\n",
       "AERO.x                                       ...                                 \n",
       "index            2019       2020       2021  ...       2058       2059       2060\n",
       "SBFL_final   0.964242   0.963773   0.964245  ...   0.963857   0.963846   0.963836\n",
       "SBJA_final  0.0357576  0.0359993  0.0357562  ...  0.0359562  0.0359615  0.0359669\n",
       "\n",
       "[3 rows x 42 columns]"
      ]
     },
     "execution_count": 288,
     "metadata": {
      "tags": []
     },
     "output_type": "execute_result"
    }
   ],
   "source": [
    "ms = {'SBFL': [0.961123, 0.963480911673876, 0.964242418338431], 'SBJA': [0.0388764442748013, 0.0365190883261238, 0.0357575816615686], 'SBFL_%': [0.961123, 0.963480911673876, 0.964242418338431], 'SBJA_%': [0.0388764442748013, 0.0365190883261238, 0.0357575816615686]}\n",
    "ms = pd.DataFrame(data=ms)\n",
    "s = pd.Series([2017, 2018, 2019])\n",
    "ms = ms.set_index([s])\n",
    "\n",
    "tail  = output.iloc[3:,:]\n",
    "novo = ms.append(tail)\n",
    "novo = novo.iloc[2:,:]\n",
    "\n",
    "novo.iloc[0, 2] = 1\n",
    "novo.iloc[0, 3] = 1\n",
    "novo.reset_index(inplace=True)\n",
    "\n",
    "novo[\"SBFL_final\"] = novo[\"SBFL\"]\n",
    "novo[\"SBJA_final\"] = novo[\"SBJA\"]\n",
    "\n",
    "for index, row in novo.iterrows():\n",
    "   if index==0:\n",
    "    pass\n",
    "   else:\n",
    "    novo.iloc[index,5]=novo.iloc[index-1,5]*(1+novo.iloc[index,3])\n",
    "    novo.iloc[index,6]=novo.iloc[index-1,6]*(1+novo.iloc[index,4])\n",
    "\n",
    "\n",
    "novo = novo[['index','SBFL_final', 'SBJA_final']]\n",
    "novo = novo.T\n",
    "final =novo\n",
    "final"
   ]
  },
  {
   "cell_type": "code",
   "execution_count": 289,
   "metadata": {
    "colab": {
     "base_uri": "https://localhost:8080/",
     "height": 17
    },
    "id": "sHpA97NjrVTA",
    "outputId": "a1c38794-19e4-48b1-f59e-820138829c23"
   },
   "outputs": [
    {
     "data": {
      "application/javascript": [
       "\n",
       "    async function download(id, filename, size) {\n",
       "      if (!google.colab.kernel.accessAllowed) {\n",
       "        return;\n",
       "      }\n",
       "      const div = document.createElement('div');\n",
       "      const label = document.createElement('label');\n",
       "      label.textContent = `Downloading \"${filename}\": `;\n",
       "      div.appendChild(label);\n",
       "      const progress = document.createElement('progress');\n",
       "      progress.max = size;\n",
       "      div.appendChild(progress);\n",
       "      document.body.appendChild(div);\n",
       "\n",
       "      const buffers = [];\n",
       "      let downloaded = 0;\n",
       "\n",
       "      const channel = await google.colab.kernel.comms.open(id);\n",
       "      // Send a message to notify the kernel that we're ready.\n",
       "      channel.send({})\n",
       "\n",
       "      for await (const message of channel.messages) {\n",
       "        // Send a message to notify the kernel that we're ready.\n",
       "        channel.send({})\n",
       "        if (message.buffers) {\n",
       "          for (const buffer of message.buffers) {\n",
       "            buffers.push(buffer);\n",
       "            downloaded += buffer.byteLength;\n",
       "            progress.value = downloaded;\n",
       "          }\n",
       "        }\n",
       "      }\n",
       "      const blob = new Blob(buffers, {type: 'application/binary'});\n",
       "      const a = document.createElement('a');\n",
       "      a.href = window.URL.createObjectURL(blob);\n",
       "      a.download = filename;\n",
       "      div.appendChild(a);\n",
       "      a.click();\n",
       "      div.remove();\n",
       "    }\n",
       "  "
      ],
      "text/plain": [
       "<IPython.core.display.Javascript object>"
      ]
     },
     "metadata": {
      "tags": []
     },
     "output_type": "display_data"
    },
    {
     "data": {
      "application/javascript": [
       "download(\"download_030817c7-d525-422a-b357-c0ca70ff75f3\", \"modelo_resultados_proj.xlsx\", 6525)"
      ],
      "text/plain": [
       "<IPython.core.display.Javascript object>"
      ]
     },
     "metadata": {
      "tags": []
     },
     "output_type": "display_data"
    }
   ],
   "source": [
    "final = final.reset_index(drop=False)\n",
    "from google.colab import files\n",
    "final.to_excel(r'modelo_resultados_proj.xlsx', header=True)\n",
    "files.download(\"/content/modelo_resultados_proj.xlsx\")"
   ]
  },
  {
   "cell_type": "code",
   "execution_count": 290,
   "metadata": {
    "id": "sa9gp6ueFXFi"
   },
   "outputs": [],
   "source": [
    "#!wget https://www.dropbox.com/preview/0_Projetos/PMIp13-Jaguaruna/5_Work/Demanda/Competi%C3%A7%C3%A3o%20Intramodal/BD_logit.xlsx?role=work=0"
   ]
  }
 ],
 "metadata": {
  "colab": {
   "collapsed_sections": [
    "z0huQHU3SSDY",
    "nBpbw_iF-Q5e"
   ],
   "name": "Modelo_intramodal_(2)_(1) (1).ipynb",
   "provenance": []
  },
  "kernelspec": {
   "display_name": "Python [conda env:base] *",
   "language": "python",
   "name": "conda-base-py"
  },
  "language_info": {
   "codemirror_mode": {
    "name": "ipython",
    "version": 3
   },
   "file_extension": ".py",
   "mimetype": "text/x-python",
   "name": "python",
   "nbconvert_exporter": "python",
   "pygments_lexer": "ipython3",
   "version": "3.12.7"
  }
 },
 "nbformat": 4,
 "nbformat_minor": 4
}
