{
 "cells": [
  {
   "cell_type": "markdown",
   "metadata": {
    "id": "z0huQHU3SSDY"
   },
   "source": [
    "## Modelagem\n"
   ]
  },
  {
   "cell_type": "code",
   "execution_count": 179,
   "metadata": {
    "colab": {
     "base_uri": "https://localhost:8080/"
    },
    "id": "K6vIR0FVLqwj",
    "outputId": "56294c18-98fb-4d13-9776-f0364f0c1817"
   },
   "outputs": [],
   "source": [
    "import pandas as pd\n",
    "import numpy as np\n",
    "import seaborn as sns\n",
    "import matplotlib.pyplot as plt\n",
    "import statsmodels.formula.api as smf\n",
    "from sklearn.metrics import accuracy_score,precision_recall_curve, f1_score, recall_score, precision_score, classification_report, roc_curve, roc_auc_score\n",
    "from sklearn.model_selection import train_test_split\n",
    "from sklearn.linear_model import LogisticRegression"
   ]
  },
  {
   "cell_type": "code",
   "execution_count": 7,
   "metadata": {
    "id": "uh_x-7XMU2f8"
   },
   "outputs": [],
   "source": [
    "def plot_confusion_matrix(cm, classes,\n",
    "                          normalize=False,\n",
    "                          title='Confusion matrix',\n",
    "                          cmap=plt.cm.Blues):\n",
    "    import itertools\n",
    "    if normalize:\n",
    "        cm = cm.astype('float') / cm.sum(axis=1)[:, np.newaxis]\n",
    "\n",
    "    plt.figure(figsize=(4, 3))\n",
    "    plt.imshow(cm, interpolation='nearest', cmap=cmap)\n",
    "    plt.title(title)\n",
    "    plt.colorbar()\n",
    "    tick_marks = np.arange(len(classes))\n",
    "    plt.xticks(tick_marks, classes, rotation=45)\n",
    "    plt.yticks(tick_marks, classes)\n",
    "\n",
    "    fmt = '.2f' if normalize else 'd'\n",
    "    thresh = cm.max() / 2.\n",
    "    for i, j in itertools.product(range(cm.shape[0]), range(cm.shape[1])):\n",
    "        plt.text(j, i, format(cm[i, j], fmt),\n",
    "                 horizontalalignment=\"center\",\n",
    "                 color=\"white\" if cm[i, j] > thresh else \"black\")\n",
    "\n",
    "    plt.tight_layout()\n",
    "    plt.ylabel('True label')\n",
    "    plt.xlabel('Predicted label')\n",
    "    plt.grid(False)\n",
    "\n",
    "from sklearn.metrics import confusion_matrix"
   ]
  },
  {
   "cell_type": "code",
   "execution_count": 9,
   "metadata": {
    "id": "cAjo6X7ELwAW"
   },
   "outputs": [],
   "source": [
    "#Essa planilha foi criada em R\n",
    "#Colocar a explicacao de ATRATIVIDADE etc\n",
    "df=pd.read_excel(\"BD_logit.xlsx\")"
   ]
  },
  {
   "cell_type": "code",
   "execution_count": 13,
   "metadata": {
    "id": "DXSjPU-vDFGn"
   },
   "outputs": [],
   "source": [
    "df = df[[\"ORIGEM.x\",\"AERO.x\",\"quantidadeviagem\", \"DISTANCIA\",\"TEMPO\", \"UTILIDADE\",\"ATRATIVIDADE\",\"U_TARIFA\",\"U_PONTUALIDADE\",\"U_CONECTIVIDADE\"]]\n",
    "df[\"AERO_C\"] = df[\"AERO.x\"]\n",
    "df[\"AERO_C\"] = df[\"AERO_C\"].replace({\"SBFL\": 0, \"SBJA\": 1}).infer_objects(copy=False)\n",
    "pd.set_option('future.no_silent_downcasting', True);"
   ]
  },
  {
   "cell_type": "code",
   "execution_count": 225,
   "metadata": {},
   "outputs": [
    {
     "data": {
      "text/html": [
       "<div>\n",
       "<style scoped>\n",
       "    .dataframe tbody tr th:only-of-type {\n",
       "        vertical-align: middle;\n",
       "    }\n",
       "\n",
       "    .dataframe tbody tr th {\n",
       "        vertical-align: top;\n",
       "    }\n",
       "\n",
       "    .dataframe thead th {\n",
       "        text-align: right;\n",
       "    }\n",
       "</style>\n",
       "<table border=\"1\" class=\"dataframe\">\n",
       "  <thead>\n",
       "    <tr style=\"text-align: right;\">\n",
       "      <th></th>\n",
       "      <th>ORIGEM.x</th>\n",
       "      <th>AERO.x</th>\n",
       "      <th>quantidadeviagem</th>\n",
       "      <th>DISTANCIA</th>\n",
       "      <th>TEMPO</th>\n",
       "      <th>UTILIDADE</th>\n",
       "      <th>ATRATIVIDADE</th>\n",
       "      <th>U_TARIFA</th>\n",
       "      <th>U_PONTUALIDADE</th>\n",
       "      <th>U_CONECTIVIDADE</th>\n",
       "      <th>AERO_C</th>\n",
       "    </tr>\n",
       "  </thead>\n",
       "  <tbody>\n",
       "    <tr>\n",
       "      <th>20586</th>\n",
       "      <td>Videira</td>\n",
       "      <td>SBFL</td>\n",
       "      <td>16</td>\n",
       "      <td>437.535</td>\n",
       "      <td>20255.160</td>\n",
       "      <td>11.451159</td>\n",
       "      <td>0.324939</td>\n",
       "      <td>1.779462</td>\n",
       "      <td>0.087840</td>\n",
       "      <td>9.583856</td>\n",
       "      <td>0</td>\n",
       "    </tr>\n",
       "    <tr>\n",
       "      <th>20587</th>\n",
       "      <td>Xangri-Lá</td>\n",
       "      <td>SBFL</td>\n",
       "      <td>14</td>\n",
       "      <td>347.012</td>\n",
       "      <td>14716.562</td>\n",
       "      <td>11.451159</td>\n",
       "      <td>0.210126</td>\n",
       "      <td>1.779462</td>\n",
       "      <td>0.087840</td>\n",
       "      <td>9.583856</td>\n",
       "      <td>0</td>\n",
       "    </tr>\n",
       "    <tr>\n",
       "      <th>20588</th>\n",
       "      <td>Xangri-Lá</td>\n",
       "      <td>SBFL</td>\n",
       "      <td>12</td>\n",
       "      <td>347.012</td>\n",
       "      <td>14716.562</td>\n",
       "      <td>11.451159</td>\n",
       "      <td>0.210126</td>\n",
       "      <td>1.779462</td>\n",
       "      <td>0.087840</td>\n",
       "      <td>9.583856</td>\n",
       "      <td>0</td>\n",
       "    </tr>\n",
       "    <tr>\n",
       "      <th>20589</th>\n",
       "      <td>Xangri-Lá</td>\n",
       "      <td>SBJA</td>\n",
       "      <td>40</td>\n",
       "      <td>177.974</td>\n",
       "      <td>7792.731</td>\n",
       "      <td>22.793438</td>\n",
       "      <td>0.789874</td>\n",
       "      <td>16.086295</td>\n",
       "      <td>0.053743</td>\n",
       "      <td>6.653401</td>\n",
       "      <td>1</td>\n",
       "    </tr>\n",
       "    <tr>\n",
       "      <th>20590</th>\n",
       "      <td>Xangri-Lá</td>\n",
       "      <td>SBJA</td>\n",
       "      <td>10</td>\n",
       "      <td>177.974</td>\n",
       "      <td>7792.731</td>\n",
       "      <td>22.793438</td>\n",
       "      <td>0.789874</td>\n",
       "      <td>16.086295</td>\n",
       "      <td>0.053743</td>\n",
       "      <td>6.653401</td>\n",
       "      <td>1</td>\n",
       "    </tr>\n",
       "  </tbody>\n",
       "</table>\n",
       "</div>"
      ],
      "text/plain": [
       "        ORIGEM.x AERO.x  quantidadeviagem  DISTANCIA      TEMPO  UTILIDADE  \\\n",
       "20586    Videira   SBFL                16    437.535  20255.160  11.451159   \n",
       "20587  Xangri-Lá   SBFL                14    347.012  14716.562  11.451159   \n",
       "20588  Xangri-Lá   SBFL                12    347.012  14716.562  11.451159   \n",
       "20589  Xangri-Lá   SBJA                40    177.974   7792.731  22.793438   \n",
       "20590  Xangri-Lá   SBJA                10    177.974   7792.731  22.793438   \n",
       "\n",
       "       ATRATIVIDADE   U_TARIFA  U_PONTUALIDADE  U_CONECTIVIDADE  AERO_C  \n",
       "20586      0.324939   1.779462        0.087840         9.583856       0  \n",
       "20587      0.210126   1.779462        0.087840         9.583856       0  \n",
       "20588      0.210126   1.779462        0.087840         9.583856       0  \n",
       "20589      0.789874  16.086295        0.053743         6.653401       1  \n",
       "20590      0.789874  16.086295        0.053743         6.653401       1  "
      ]
     },
     "execution_count": 225,
     "metadata": {},
     "output_type": "execute_result"
    }
   ],
   "source": [
    "df.tail()"
   ]
  },
  {
   "cell_type": "code",
   "execution_count": 227,
   "metadata": {
    "colab": {
     "base_uri": "https://localhost:8080/"
    },
    "id": "oiY6e-_2RxJW",
    "outputId": "d5b5d03a-f7f3-4f52-b200-d0feb699b83e"
   },
   "outputs": [
    {
     "data": {
      "text/html": [
       "<div>\n",
       "<style scoped>\n",
       "    .dataframe tbody tr th:only-of-type {\n",
       "        vertical-align: middle;\n",
       "    }\n",
       "\n",
       "    .dataframe tbody tr th {\n",
       "        vertical-align: top;\n",
       "    }\n",
       "\n",
       "    .dataframe thead th {\n",
       "        text-align: right;\n",
       "    }\n",
       "</style>\n",
       "<table border=\"1\" class=\"dataframe\">\n",
       "  <thead>\n",
       "    <tr style=\"text-align: right;\">\n",
       "      <th></th>\n",
       "      <th></th>\n",
       "      <th>DISTANCIA</th>\n",
       "      <th>TEMPO</th>\n",
       "      <th>UTILIDADE</th>\n",
       "      <th>ATRATIVIDADE</th>\n",
       "      <th>U_TARIFA</th>\n",
       "      <th>U_PONTUALIDADE</th>\n",
       "      <th>U_CONECTIVIDADE</th>\n",
       "      <th>AERO_C</th>\n",
       "      <th>quantidadeviagem</th>\n",
       "    </tr>\n",
       "    <tr>\n",
       "      <th>ORIGEM.x</th>\n",
       "      <th>AERO.x</th>\n",
       "      <th></th>\n",
       "      <th></th>\n",
       "      <th></th>\n",
       "      <th></th>\n",
       "      <th></th>\n",
       "      <th></th>\n",
       "      <th></th>\n",
       "      <th></th>\n",
       "      <th></th>\n",
       "    </tr>\n",
       "  </thead>\n",
       "  <tbody>\n",
       "    <tr>\n",
       "      <th>Agrolândia</th>\n",
       "      <th>SBFL</th>\n",
       "      <td>241.013</td>\n",
       "      <td>11909.587</td>\n",
       "      <td>11.451159</td>\n",
       "      <td>0.409435</td>\n",
       "      <td>1.779462</td>\n",
       "      <td>0.087840</td>\n",
       "      <td>9.583856</td>\n",
       "      <td>0.0</td>\n",
       "      <td>226</td>\n",
       "    </tr>\n",
       "    <tr>\n",
       "      <th rowspan=\"2\" valign=\"top\">Alfredo Wagner</th>\n",
       "      <th>SBFL</th>\n",
       "      <td>124.464</td>\n",
       "      <td>6143.470</td>\n",
       "      <td>11.451159</td>\n",
       "      <td>0.473263</td>\n",
       "      <td>1.779462</td>\n",
       "      <td>0.087840</td>\n",
       "      <td>9.583856</td>\n",
       "      <td>0.0</td>\n",
       "      <td>298</td>\n",
       "    </tr>\n",
       "    <tr>\n",
       "      <th>SBJA</th>\n",
       "      <td>189.787</td>\n",
       "      <td>10987.098</td>\n",
       "      <td>22.793438</td>\n",
       "      <td>0.526737</td>\n",
       "      <td>16.086295</td>\n",
       "      <td>0.053743</td>\n",
       "      <td>6.653401</td>\n",
       "      <td>1.0</td>\n",
       "      <td>16</td>\n",
       "    </tr>\n",
       "    <tr>\n",
       "      <th>Alvorada</th>\n",
       "      <th>SBJA</th>\n",
       "      <td>290.006</td>\n",
       "      <td>12964.501</td>\n",
       "      <td>22.793438</td>\n",
       "      <td>0.753302</td>\n",
       "      <td>16.086295</td>\n",
       "      <td>0.053743</td>\n",
       "      <td>6.653401</td>\n",
       "      <td>1.0</td>\n",
       "      <td>163</td>\n",
       "    </tr>\n",
       "    <tr>\n",
       "      <th>Angelina</th>\n",
       "      <th>SBFL</th>\n",
       "      <td>91.349</td>\n",
       "      <td>4536.699</td>\n",
       "      <td>11.451159</td>\n",
       "      <td>0.508555</td>\n",
       "      <td>1.779462</td>\n",
       "      <td>0.087840</td>\n",
       "      <td>9.583856</td>\n",
       "      <td>0.0</td>\n",
       "      <td>124</td>\n",
       "    </tr>\n",
       "  </tbody>\n",
       "</table>\n",
       "</div>"
      ],
      "text/plain": [
       "                       DISTANCIA      TEMPO  UTILIDADE  ATRATIVIDADE  \\\n",
       "ORIGEM.x       AERO.x                                                  \n",
       "Agrolândia     SBFL      241.013  11909.587  11.451159      0.409435   \n",
       "Alfredo Wagner SBFL      124.464   6143.470  11.451159      0.473263   \n",
       "               SBJA      189.787  10987.098  22.793438      0.526737   \n",
       "Alvorada       SBJA      290.006  12964.501  22.793438      0.753302   \n",
       "Angelina       SBFL       91.349   4536.699  11.451159      0.508555   \n",
       "\n",
       "                        U_TARIFA  U_PONTUALIDADE  U_CONECTIVIDADE  AERO_C  \\\n",
       "ORIGEM.x       AERO.x                                                       \n",
       "Agrolândia     SBFL     1.779462        0.087840         9.583856     0.0   \n",
       "Alfredo Wagner SBFL     1.779462        0.087840         9.583856     0.0   \n",
       "               SBJA    16.086295        0.053743         6.653401     1.0   \n",
       "Alvorada       SBJA    16.086295        0.053743         6.653401     1.0   \n",
       "Angelina       SBFL     1.779462        0.087840         9.583856     0.0   \n",
       "\n",
       "                       quantidadeviagem  \n",
       "ORIGEM.x       AERO.x                    \n",
       "Agrolândia     SBFL                 226  \n",
       "Alfredo Wagner SBFL                 298  \n",
       "               SBJA                  16  \n",
       "Alvorada       SBJA                 163  \n",
       "Angelina       SBFL                 124  "
      ]
     },
     "execution_count": 227,
     "metadata": {},
     "output_type": "execute_result"
    }
   ],
   "source": [
    "quantidaddeviagem = pd.DataFrame(df.groupby([\"ORIGEM.x\", \"AERO.x\"])[\"quantidadeviagem\"].sum())\n",
    "outros = pd.DataFrame(df.groupby([\"ORIGEM.x\", \"AERO.x\"])[[\"DISTANCIA\", \"TEMPO\", \"UTILIDADE\", \"ATRATIVIDADE\", \"U_TARIFA\", \"U_PONTUALIDADE\", \"U_CONECTIVIDADE\", \"AERO_C\"]].mean())\n",
    "df_novo = pd.merge(outros, quantidaddeviagem, left_index=True, right_index=True)\n",
    "df_novo.head()"
   ]
  },
  {
   "cell_type": "code",
   "execution_count": 229,
   "metadata": {},
   "outputs": [],
   "source": [
    "df_novo = df_novo.reset_index()\n",
    "X = df_novo[[\"ATRATIVIDADE\"]]\n",
    "y = df_novo[\"AERO_C\"]\n",
    "weights = df_novo[\"quantidadeviagem\"]"
   ]
  },
  {
   "cell_type": "code",
   "execution_count": 231,
   "metadata": {},
   "outputs": [],
   "source": [
    "X_train, X_test, y_train, y_test, weights_train, _ = train_test_split(\n",
    "    X, y, weights, test_size=0.2, random_state=42\n",
    ")    "
   ]
  },
  {
   "cell_type": "code",
   "execution_count": 233,
   "metadata": {},
   "outputs": [
    {
     "data": {
      "text/plain": [
       "((232, 1), (58, 1), (232,), (58,))"
      ]
     },
     "execution_count": 233,
     "metadata": {},
     "output_type": "execute_result"
    }
   ],
   "source": [
    "X_train.shape, X_test.shape, y_train.shape, y_test.shape"
   ]
  },
  {
   "cell_type": "code",
   "execution_count": 235,
   "metadata": {},
   "outputs": [
    {
     "name": "stdout",
     "output_type": "stream",
     "text": [
      "Coeficiente: [[5.7881364]], Intercept: [-3.40791291]\n"
     ]
    }
   ],
   "source": [
    "model = LogisticRegression()\n",
    "model.fit(X_train, y_train)\n",
    "\n",
    "print(f\"Coeficiente: {model.coef_}, Intercept: {model.intercept_}\")"
   ]
  },
  {
   "cell_type": "code",
   "execution_count": 239,
   "metadata": {},
   "outputs": [
    {
     "name": "stdout",
     "output_type": "stream",
     "text": [
      "Acurácia: 0.84\n",
      "Precisão: 0.94\n",
      "Recall: 0.68\n",
      "AUC-ROC: 0.99\n"
     ]
    }
   ],
   "source": [
    "y_pred = model.predict(X_test)\n",
    "y_prob = model.predict_proba(X_test)[:, 1]  # Probabilidades de ser classe 1\n",
    "\n",
    "# Métricas de avaliação\n",
    "print(f\"Acurácia: {accuracy_score(y_test, y_pred):.2f}\")\n",
    "print(f\"Precisão: {precision_score(y_test, y_pred):.2f}\")\n",
    "print(f\"Recall: {recall_score(y_test, y_pred):.2f}\")\n",
    "print(f\"AUC-ROC: {roc_auc_score(y_test, y_prob):.2f}\")"
   ]
  },
  {
   "cell_type": "code",
   "execution_count": 147,
   "metadata": {},
   "outputs": [
    {
     "data": {
      "image/png": "[encoded data removed]",
      "text/plain": [
       "<Figure size 400x300 with 2 Axes>"
      ]
     },
     "metadata": {},
     "output_type": "display_data"
    }
   ],
   "source": [
    "def plot_confusion_matrix(cnf_matrix, classes, title, normalize=False):\n",
    "    if normalize:\n",
    "        cnf_matrix = cnf_matrix.astype('float') / cnf_matrix.sum(axis=1)[:, np.newaxis]\n",
    "        fmt = '.2f'\n",
    "    else:\n",
    "        fmt = 'd'\n",
    "    \n",
    "    plt.figure(figsize=(4, 3))\n",
    "    sns.heatmap(cnf_matrix, annot=True, fmt=fmt, cmap='Blues',\n",
    "                xticklabels=classes, yticklabels=classes)\n",
    "    plt.title(title)\n",
    "    plt.ylabel('True label')\n",
    "    plt.xlabel('Predicted label')\n",
    "    plt.show()\n",
    "\n",
    "\n",
    "class_names = ['SBFL', 'SBJA']\n",
    "cnf_matrix = confusion_matrix(y_test, y_pred, labels=[1, 0])\n",
    "plot_confusion_matrix(cnf_matrix, classes=class_names,\n",
    "                     title='Confusion Matrix - C=50%', normalize=True)"
   ]
  },
  {
   "cell_type": "code",
   "execution_count": 241,
   "metadata": {},
   "outputs": [
    {
     "data": {
      "image/png": "[encoded data removed]",
      "text/plain": [
       "<Figure size 400x300 with 1 Axes>"
      ]
     },
     "metadata": {},
     "output_type": "display_data"
    }
   ],
   "source": [
    "#Recall deu um pouco baixo e muitos SBFL sendo classificados como SBJA\n",
    "#Nao achei que esta muito desbalanceado o df\n",
    "class_distribution = df_novo['AERO_C'].value_counts()\n",
    "\n",
    "plt.figure(figsize=(4, 3))\n",
    "sns.barplot(x=class_distribution.index, y=class_distribution.values)\n",
    "plt.xlabel('Classe')\n",
    "plt.ylabel('Quantidade')\n",
    "plt.title('Distribuição')\n",
    "plt.xticks([0, 1], ['SBFL', 'SBJA']) \n",
    "plt.show();"
   ]
  },
  {
   "cell_type": "code",
   "execution_count": 247,
   "metadata": {},
   "outputs": [
    {
     "data": {
      "image/png": "[encoded data removed]",
      "text/plain": [
       "<Figure size 600x400 with 1 Axes>"
      ]
     },
     "metadata": {},
     "output_type": "display_data"
    }
   ],
   "source": [
    "plt.figure(figsize=(6, 4))\n",
    "plt.plot(recall, precision)\n",
    "\n",
    "best_idx = np.argmax(f1_scores)\n",
    "plt.scatter(recall[best_idx], precision[best_idx], color='red', label=f'Melhor F1-Score: {best_f1_score:.2f}')\n",
    "\n",
    "plt.xlabel('Recall')\n",
    "plt.ylabel('Precision')\n",
    "plt.title('Precision vs Recall')\n",
    "plt.legend()\n",
    "plt.grid(True)\n",
    "plt.show()"
   ]
  },
  {
   "cell_type": "code",
   "execution_count": 249,
   "metadata": {},
   "outputs": [
    {
     "name": "stdout",
     "output_type": "stream",
     "text": [
      "F1-Score: 0.9200\n"
     ]
    }
   ],
   "source": [
    "y_pred_adjusted = (y_prob > best_threshold).astype(int)\n",
    "print(f\"F1-Score: {f1_score(y_test, y_pred_adjusted):.4f}\")\n"
   ]
  },
  {
   "cell_type": "code",
   "execution_count": 251,
   "metadata": {},
   "outputs": [
    {
     "data": {
      "image/png": "[encoded data removed]",
      "text/plain": [
       "<Figure size 400x300 with 2 Axes>"
      ]
     },
     "metadata": {},
     "output_type": "display_data"
    }
   ],
   "source": [
    "#Ajuste ficou bem melhor!\n",
    "class_names = ['SBFL', 'SBJA']\n",
    "cnf_matrix = confusion_matrix(y_test, y_pred_adjusted, labels=[1, 0])\n",
    "plot_confusion_matrix(cnf_matrix, classes=class_names,\n",
    "                     title='Confusion Matrix - C=50%', normalize=True)"
   ]
  },
  {
   "cell_type": "code",
   "execution_count": 253,
   "metadata": {},
   "outputs": [
    {
     "data": {
      "image/png": "[encoded data removed]",
      "text/plain": [
       "<Figure size 600x400 with 1 Axes>"
      ]
     },
     "metadata": {},
     "output_type": "display_data"
    }
   ],
   "source": [
    "y_prob = model.predict_proba(X_test)[:, 1]\n",
    "\n",
    "fpr, tpr, thresholds = roc_curve(y_test, y_prob, pos_label=1)\n",
    "\n",
    "auc_score = roc_auc_score(y_test, y_prob)\n",
    "\n",
    "# Plota a curva ROC\n",
    "plt.figure(figsize=(6, 4))\n",
    "plt.plot(fpr, tpr, lw=2, label=f'Curva ROC (AUC = {auc_score:.2f})')\n",
    "plt.title('Curva ROC')\n",
    "plt.legend(loc='lower right')\n",
    "plt.grid(True)\n",
    "plt.show()"
   ]
  },
  {
   "cell_type": "markdown",
   "metadata": {},
   "source": [
    "Esse modelo será utilizado para projetar a demanda de cada aeroporto no longo prazo. Para isto, será projetado a Atratividade e o total de passageiros aéreos da região e será utilizada a propabilidade para atribuir os pax de cada município para determinado aeroporto. \n",
    "\n",
    "Assim, em determinado município, os usuários terão probabilidade X% de optarem por SBFL e 1-X% para optarem por SBJA. Serão esperados Y mil usuários no longo prazo que serão alocados X%*Y para SBFL e (1-X%)*Y para SBJA"
   ]
  }
 ],
 "metadata": {
  "colab": {
   "collapsed_sections": [
    "z0huQHU3SSDY",
    "nBpbw_iF-Q5e"
   ],
   "name": "Modelo_intramodal_(2)_(1) (1).ipynb",
   "provenance": []
  },
  "kernelspec": {
   "display_name": "Python [conda env:base] *",
   "language": "python",
   "name": "conda-base-py"
  },
  "language_info": {
   "codemirror_mode": {
    "name": "ipython",
    "version": 3
   },
   "file_extension": ".py",
   "mimetype": "text/x-python",
   "name": "python",
   "nbconvert_exporter": "python",
   "pygments_lexer": "ipython3",
   "version": "3.12.7"
  }
 },
 "nbformat": 4,
 "nbformat_minor": 4
}
