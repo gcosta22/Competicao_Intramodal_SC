{
 "cells": [
  {
   "cell_type": "code",
   "execution_count": null,
   "metadata": {},
   "outputs": [],
   "source": [
    "import pandas as pd\n",
    "import os"
   ]
  },
  {
   "cell_type": "code",
   "execution_count": 15,
   "metadata": {},
   "outputs": [],
   "source": [
    "#Buscando a base dados estatísticos no sita da ANAC\n",
    "#Essa base contem informações diversas do setor: n° de pax, carga, distancia, decolagens, etc.\n",
    "url = \"https://sistemas.anac.gov.br/dadosabertos/Voos%20e%20opera%C3%A7%C3%B5es%20a%C3%A9reas/Dados%20Estat%C3%ADsticos%20do%20Transporte%20A%C3%A9reo/Dados_Estatisticos.csv\"\n",
    "dados_estatisticos = pd.read_csv(url, encoding='utf-8', delimiter=';', skiprows=1) "
   ]
  },
  {
   "cell_type": "code",
   "execution_count": null,
   "metadata": {},
   "outputs": [
    {
     "data": {
      "text/plain": [
       "Index(['EMPRESA_SIGLA', 'EMPRESA_NOME', 'EMPRESA_NACIONALIDADE', 'ANO', 'MES',\n",
       "       'AEROPORTO_DE_ORIGEM_SIGLA', 'AEROPORTO_DE_ORIGEM_NOME',\n",
       "       'AEROPORTO_DE_ORIGEM_UF', 'AEROPORTO_DE_ORIGEM_REGIAO',\n",
       "       'AEROPORTO_DE_ORIGEM_PAIS', 'AEROPORTO_DE_ORIGEM_CONTINENTE',\n",
       "       'AEROPORTO_DE_DESTINO_SIGLA', 'AEROPORTO_DE_DESTINO_NOME',\n",
       "       'AEROPORTO_DE_DESTINO_UF', 'AEROPORTO_DE_DESTINO_REGIAO',\n",
       "       'AEROPORTO_DE_DESTINO_PAIS', 'AEROPORTO_DE_DESTINO_CONTINENTE',\n",
       "       'NATUREZA', 'GRUPO_DE_VOO', 'PASSAGEIROS_PAGOS', 'PASSAGEIROS_GRATIS',\n",
       "       'CARGA_PAGA_KG', 'CARGA_GRATIS_KG', 'CORREIO_KG', 'ASK', 'RPK', 'ATK',\n",
       "       'RTK', 'COMBUSTIVEL_LITROS', 'DISTANCIA_VOADA_KM', 'DECOLAGENS',\n",
       "       'CARGA_PAGA_KM', 'CARGA_GRATIS_KM', 'CORREIO_KM', 'ASSENTOS', 'PAYLOAD',\n",
       "       'HORAS_VOADAS', 'BAGAGEM_KG'],\n",
       "      dtype='object')"
      ]
     },
     "execution_count": 64,
     "metadata": {},
     "output_type": "execute_result"
    }
   ],
   "source": [
    "#Filtrando somente os dados de 2024\n",
    "base_aerea = dados_estatisticos[dados_estatisticos[\"ANO\"] == 2024]\n",
    "base_aerea.columns"
   ]
  },
  {
   "cell_type": "code",
   "execution_count": 65,
   "metadata": {},
   "outputs": [],
   "source": [
    "base_aerea_filtrada = base_aerea[base_aerea['AEROPORTO_DE_ORIGEM_PAIS'] == 'BRASIL']\n",
    "\n",
    "#Criação da variável de quantidade de decolagens por aeroporto\n",
    "decolagens = pd.DataFrame(base_aerea_filtrada.groupby('AEROPORTO_DE_ORIGEM_SIGLA')['DECOLAGENS'].sum())\n",
    "\n",
    "#Variável de qunatidade de voos diretos\n",
    "mercados_diretos = pd.DataFrame(base_aerea_filtrada.groupby('AEROPORTO_DE_ORIGEM_SIGLA')['AEROPORTO_DE_DESTINO_SIGLA'].count())\n"
   ]
  },
  {
   "cell_type": "markdown",
   "metadata": {},
   "source": [
    "Tentativa fazer o download das planilhas de tarifa diretamente do site da ANAC"
   ]
  },
  {
   "cell_type": "code",
   "execution_count": null,
   "metadata": {},
   "outputs": [],
   "source": [
    "pip install selenium beautifulsoup4\n"
   ]
  },
  {
   "cell_type": "code",
   "execution_count": 42,
   "metadata": {},
   "outputs": [],
   "source": [
    "from selenium import webdriver\n",
    "from selenium.webdriver.common.by import By\n",
    "from selenium.webdriver.support.ui import Select\n",
    "from selenium.webdriver.chrome.service import Service\n",
    "from selenium.webdriver.chrome.options import Options  # Importar a classe Options corretamente\n",
    "import time"
   ]
  },
  {
   "cell_type": "code",
   "execution_count": null,
   "metadata": {},
   "outputs": [],
   "source": [
    "chrome_options = Options()  \n",
    "chrome_options.add_argument(\"--headless\") \n",
    "chrome_options.add_argument(\"--disable-gpu\")\n",
    "chrome_options.add_argument(\"--no-sandbox\")\n",
    "\n",
    "chrome_driver_path = \"C:/Users/GUilherme.costa/Downloads/chromedriver-win32/chromedriver-win32/chromedriver.exe\"\n",
    "               \n",
    "service = Service(chrome_driver_path)\n",
    "driver = webdriver.Chrome(service=service, options=chrome_options)\n",
    "\n",
    "\n",
    "try:\n",
    "    driver.get(\"https://sas.anac.gov.br/sas/downloads/view/frmDownload.aspx?tema=14\")\n",
    "    \n",
    "    time.sleep(5)\n",
    "    \n",
    "    select_ano = Select(driver.find_element(By.ID, \"MainContet_listAno\"))\n",
    "    select_ano.select_by_visible_text(\"2024\")\n",
    "    \n",
    "    select_tema = Select(driver.find_element(By.ID, \"MainContent_listTema\"))  \n",
    "    select_tema.select_by_visible_text(\"Tarifas Transporte Aéreo Passagerios Domésticos\")\n",
    "    \n",
    "    botao_buscar = driver.find_element(By.ID, \"MainContent_btnListaArquivos\")  \n",
    "    botao_buscar.click()\n",
    "    \n",
    "    time.sleep(5)\n",
    "    \n",
    "    botao_selecionartodos = driver.find_element(By.ID, \"MainContent_btnMarcar\")\n",
    "    botao_selecionartodos.click()\n",
    "\n",
    "    botao_download = driver.find_element(By.ID, \"MainContent_btnBaixar\")\n",
    "    botao_download.click()\n",
    "    \n",
    "    time.sleep(10)  \n",
    "\n",
    "finally:\n",
    "    driver.quit()\n"
   ]
  },
  {
   "cell_type": "code",
   "execution_count": 139,
   "metadata": {},
   "outputs": [],
   "source": [
    "#O código acima ainda está dando erro. Acredito que estou com problema para acessar no site da Anac. Ainda pretendo voltar aqui para automatizar\n",
    "#Enquanto isso, vou fazer download dos arquivos na mão, como um boomer\n",
    "\n",
    "caminho_pasta = \"C:/Users/GUilherme.costa/Downloads/anac_14925995\"\n",
    "arquivos_csv = [arquivo for arquivo in os.listdir(caminho_pasta) if arquivo.lower().endswith('.csv')]\n",
    "\n",
    "dataframes = []\n",
    "\n",
    "for arquivo in arquivos_csv:\n",
    "    caminho_arquivo = os.path.join(caminho_pasta, arquivo)\n",
    "    df = pd.read_csv(caminho_arquivo, encoding='utf-8', delimiter=';') \n",
    "    dataframes.append(df)\n",
    "\n",
    "base_tarifa = pd.concat(dataframes, ignore_index=True)\n",
    "\n",
    "base_tarifa['TARIFA'] = (\n",
    "    df['TARIFA']\n",
    "    .str.replace('.', '', regex=False)  \n",
    "    .str.replace(',', '.')              \n",
    "    .apply(pd.to_numeric, errors='coerce') \n",
    ")\n"
   ]
  },
  {
   "cell_type": "code",
   "execution_count": 142,
   "metadata": {},
   "outputs": [],
   "source": [
    "#Para o cálculo da tarifa não da pra fazer apenas uma média, é preciso ponderar por  assento por rota. Vou fazer isso para o ano\n",
    "base_tarifa['OD'] = base_tarifa['ORIGEM'] +'-' + base_tarifa['DESTINO']\n",
    "base_tarifa['TARIFA_ASSENTO'] = base_tarifa['TARIFA']*base_tarifa['ASSENTOS']  \n",
    "\n",
    "#Cálculo do total de assentos por roda\n",
    "soma_assentos_por_rota = base_tarifa.groupby('OD')['ASSENTOS'].sum().reset_index()\n",
    "soma_assentos_por_rota.columns = ['OD', 'SOMA_ASSENTOS']\n",
    "\n",
    "#Cálculo da soma das tarifas por rota\n",
    "soma_tarifa_assentos = base_tarifa.groupby('OD')['TARIFA_ASSENTO'].sum().reset_index()\n",
    "soma_tarifa_assentos.columns = ['OD', 'SOMA_TARIFA*ASSENTOS']\n",
    "\n",
    "tarifa_ponderada = soma_assentos_por_rota.merge(soma_tarifa_assentos, on = 'OD' )\n",
    "tarifa_ponderada['TARIFA_P'] = tarifa_ponderada['SOMA_TARIFA*ASSENTOS'] / tarifa_ponderada['SOMA_ASSENTOS']\n",
    "tarifa_ponderada = tarifa_ponderada.drop(['SOMA_ASSENTOS',\t'SOMA_TARIFA*ASSENTOS'], axis =1)"
   ]
  },
  {
   "cell_type": "code",
   "execution_count": null,
   "metadata": {},
   "outputs": [
    {
     "data": {
      "text/html": [
       "<div>\n",
       "<style scoped>\n",
       "    .dataframe tbody tr th:only-of-type {\n",
       "        vertical-align: middle;\n",
       "    }\n",
       "\n",
       "    .dataframe tbody tr th {\n",
       "        vertical-align: top;\n",
       "    }\n",
       "\n",
       "    .dataframe thead th {\n",
       "        text-align: right;\n",
       "    }\n",
       "</style>\n",
       "<table border=\"1\" class=\"dataframe\">\n",
       "  <thead>\n",
       "    <tr style=\"text-align: right;\">\n",
       "      <th></th>\n",
       "      <th>ANO</th>\n",
       "      <th>MES</th>\n",
       "      <th>EMPRESA</th>\n",
       "      <th>ORIGEM</th>\n",
       "      <th>DESTINO</th>\n",
       "      <th>TARIFA</th>\n",
       "      <th>ASSENTOS</th>\n",
       "      <th>OD</th>\n",
       "      <th>TARIFA_ASSENTO</th>\n",
       "      <th>TARIFA_P</th>\n",
       "    </tr>\n",
       "  </thead>\n",
       "  <tbody>\n",
       "    <tr>\n",
       "      <th>0</th>\n",
       "      <td>2024</td>\n",
       "      <td>1</td>\n",
       "      <td>ABJ</td>\n",
       "      <td>SBSV</td>\n",
       "      <td>SDLO</td>\n",
       "      <td>750.0</td>\n",
       "      <td>8</td>\n",
       "      <td>SBSV-SDLO</td>\n",
       "      <td>6000.0</td>\n",
       "      <td>181.224839</td>\n",
       "    </tr>\n",
       "    <tr>\n",
       "      <th>1</th>\n",
       "      <td>2024</td>\n",
       "      <td>1</td>\n",
       "      <td>ABJ</td>\n",
       "      <td>SBSV</td>\n",
       "      <td>SDLO</td>\n",
       "      <td>950.0</td>\n",
       "      <td>8</td>\n",
       "      <td>SBSV-SDLO</td>\n",
       "      <td>7600.0</td>\n",
       "      <td>181.224839</td>\n",
       "    </tr>\n",
       "    <tr>\n",
       "      <th>2</th>\n",
       "      <td>2024</td>\n",
       "      <td>1</td>\n",
       "      <td>ABJ</td>\n",
       "      <td>SBSV</td>\n",
       "      <td>SDLO</td>\n",
       "      <td>1150.0</td>\n",
       "      <td>14</td>\n",
       "      <td>SBSV-SDLO</td>\n",
       "      <td>16100.0</td>\n",
       "      <td>181.224839</td>\n",
       "    </tr>\n",
       "    <tr>\n",
       "      <th>3</th>\n",
       "      <td>2024</td>\n",
       "      <td>1</td>\n",
       "      <td>ABJ</td>\n",
       "      <td>SBSV</td>\n",
       "      <td>SDLO</td>\n",
       "      <td>600.0</td>\n",
       "      <td>1</td>\n",
       "      <td>SBSV-SDLO</td>\n",
       "      <td>600.0</td>\n",
       "      <td>181.224839</td>\n",
       "    </tr>\n",
       "    <tr>\n",
       "      <th>4</th>\n",
       "      <td>2024</td>\n",
       "      <td>1</td>\n",
       "      <td>ABJ</td>\n",
       "      <td>SBSV</td>\n",
       "      <td>SIRI</td>\n",
       "      <td>700.0</td>\n",
       "      <td>11</td>\n",
       "      <td>SBSV-SIRI</td>\n",
       "      <td>7700.0</td>\n",
       "      <td>102.516109</td>\n",
       "    </tr>\n",
       "  </tbody>\n",
       "</table>\n",
       "</div>"
      ],
      "text/plain": [
       "    ANO  MES EMPRESA ORIGEM DESTINO  TARIFA  ASSENTOS         OD  \\\n",
       "0  2024    1     ABJ   SBSV    SDLO   750.0         8  SBSV-SDLO   \n",
       "1  2024    1     ABJ   SBSV    SDLO   950.0         8  SBSV-SDLO   \n",
       "2  2024    1     ABJ   SBSV    SDLO  1150.0        14  SBSV-SDLO   \n",
       "3  2024    1     ABJ   SBSV    SDLO   600.0         1  SBSV-SDLO   \n",
       "4  2024    1     ABJ   SBSV    SIRI   700.0        11  SBSV-SIRI   \n",
       "\n",
       "   TARIFA_ASSENTO    TARIFA_P  \n",
       "0          6000.0  181.224839  \n",
       "1          7600.0  181.224839  \n",
       "2         16100.0  181.224839  \n",
       "3           600.0  181.224839  \n",
       "4          7700.0  102.516109  "
      ]
     },
     "execution_count": 144,
     "metadata": {},
     "output_type": "execute_result"
    }
   ],
   "source": [
    "#Juntando as duas bases. Reparar que a tarifa ponderada é a mesma para o mesmo OD naquele ano\n",
    "base_tarifa = base_tarifa.merge(tarifa_ponderada, on='OD')\n",
    "base_tarifa.head()"
   ]
  }
 ],
 "metadata": {
  "kernelspec": {
   "display_name": "Python 3",
   "language": "python",
   "name": "python3"
  },
  "language_info": {
   "codemirror_mode": {
    "name": "ipython",
    "version": 3
   },
   "file_extension": ".py",
   "mimetype": "text/x-python",
   "name": "python",
   "nbconvert_exporter": "python",
   "pygments_lexer": "ipython3",
   "version": "3.13.1"
  }
 },
 "nbformat": 4,
 "nbformat_minor": 2
}
